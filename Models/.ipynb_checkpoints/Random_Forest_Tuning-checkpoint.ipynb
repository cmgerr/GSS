{
 "cells": [
  {
   "cell_type": "code",
   "execution_count": 1,
   "metadata": {
    "collapsed": true
   },
   "outputs": [],
   "source": [
    "# imports\n",
    "import pandas as pd\n",
    "import numpy as np\n",
    "import seaborn as sns\n",
    "%matplotlib inline\n",
    "from sklearn.preprocessing import LabelEncoder\n",
    "from sklearn.cross_validation import train_test_split\n",
    "from sklearn.ensemble import RandomForestClassifier\n",
    "from sklearn.metrics import classification_report, confusion_matrix, accuracy_score\n",
    "from sklearn.grid_search import GridSearchCV\n",
    "\n",
    "# set random state to use throughout\n",
    "rs = 25"
   ]
  },
  {
   "cell_type": "code",
   "execution_count": 2,
   "metadata": {
    "collapsed": false
   },
   "outputs": [],
   "source": [
    "# import data and format it\n",
    "data = pd.read_csv('../Data/gss_subset_cleaned.csv')\n",
    "data = data[data['year']> 2005]\n",
    "# drop highly correlated columns and unusable columns identified in earlier analysis\n",
    "data.drop(['paeduc', 'maeduc', 'speduc', 'income', 'satjob', 'goodlife', \n",
    "           'health', 'year', 'hompop', 'earnrs'], axis=1, inplace=True)\n",
    "# drop less important features from first run-through of RF\n",
    "data.drop(['babies', 'preteen', 'teens', 'divorce', 'dwelling', 'sex'], axis=1, inplace=True)\n",
    "data.dropna(inplace=True)"
   ]
  },
  {
   "cell_type": "code",
   "execution_count": 3,
   "metadata": {
    "collapsed": false
   },
   "outputs": [],
   "source": [
    "# set X and y\n",
    "X = pd.get_dummies(data.drop('happy', axis=1), drop_first=True)\n",
    "y = data['happy'] > 1"
   ]
  },
  {
   "cell_type": "code",
   "execution_count": 4,
   "metadata": {
    "collapsed": false
   },
   "outputs": [
    {
     "data": {
      "text/plain": [
       "True     0.858185\n",
       "False    0.141815\n",
       "Name: happy, dtype: float64"
      ]
     },
     "execution_count": 4,
     "metadata": {},
     "output_type": "execute_result"
    }
   ],
   "source": [
    "# look at % in each class\n",
    "y.value_counts()/y.count()"
   ]
  },
  {
   "cell_type": "code",
   "execution_count": 5,
   "metadata": {
    "collapsed": true
   },
   "outputs": [],
   "source": [
    "# do train_test split\n",
    "X_train, X_test, y_train, y_test = train_test_split(X.as_matrix(), y.as_matrix(),\n",
    "        stratify = y, test_size=0.2, random_state=rs)"
   ]
  },
  {
   "cell_type": "code",
   "execution_count": 6,
   "metadata": {
    "collapsed": true
   },
   "outputs": [],
   "source": [
    "# instantiate Random Forest\n",
    "rf = RandomForestClassifier(random_state=rs, n_jobs=-1)"
   ]
  },
  {
   "cell_type": "code",
   "execution_count": 57,
   "metadata": {
    "collapsed": false
   },
   "outputs": [],
   "source": [
    "# define param grid for gridsearch\n",
    "param_grid = {\n",
    "    'criterion': ['gini', 'entropy'],\n",
    "    'max_depth': [12,15,18],\n",
    "    'n_estimators': [12,15,18],\n",
    "    'min_samples_split': [40,50,60],\n",
    "    'min_samples_leaf': [5,10,20],\n",
    "    'max_features': [5,10,'auto']\n",
    "}"
   ]
  },
  {
   "cell_type": "code",
   "execution_count": 58,
   "metadata": {
    "collapsed": true
   },
   "outputs": [],
   "source": [
    "# instantiate gridsearch for random forest\n",
    "gsrf = GridSearchCV(rf, param_grid, n_jobs=-1)"
   ]
  },
  {
   "cell_type": "code",
   "execution_count": 59,
   "metadata": {
    "collapsed": false
   },
   "outputs": [
    {
     "data": {
      "text/plain": [
       "GridSearchCV(cv=None, error_score='raise',\n",
       "       estimator=RandomForestClassifier(bootstrap=True, class_weight=None, criterion='gini',\n",
       "            max_depth=None, max_features='auto', max_leaf_nodes=None,\n",
       "            min_samples_leaf=1, min_samples_split=2,\n",
       "            min_weight_fraction_leaf=0.0, n_estimators=10, n_jobs=-1,\n",
       "            oob_score=False, random_state=25, verbose=0, warm_start=False),\n",
       "       fit_params={}, iid=True, n_jobs=-1,\n",
       "       param_grid={'min_samples_leaf': [5, 10, 20], 'n_estimators': [12, 15, 18], 'max_features': [5, 10, 'auto'], 'criterion': ['gini', 'entropy'], 'min_samples_split': [40, 50, 60], 'max_depth': [12, 15, 18]},\n",
       "       pre_dispatch='2*n_jobs', refit=True, scoring=None, verbose=0)"
      ]
     },
     "execution_count": 59,
     "metadata": {},
     "output_type": "execute_result"
    }
   ],
   "source": [
    "gsrf.fit(X_train, y_train)"
   ]
  },
  {
   "cell_type": "code",
   "execution_count": 60,
   "metadata": {
    "collapsed": false
   },
   "outputs": [
    {
     "data": {
      "text/plain": [
       "RandomForestClassifier(bootstrap=True, class_weight=None, criterion='gini',\n",
       "            max_depth=15, max_features='auto', max_leaf_nodes=None,\n",
       "            min_samples_leaf=5, min_samples_split=50,\n",
       "            min_weight_fraction_leaf=0.0, n_estimators=15, n_jobs=-1,\n",
       "            oob_score=False, random_state=25, verbose=0, warm_start=False)"
      ]
     },
     "execution_count": 60,
     "metadata": {},
     "output_type": "execute_result"
    }
   ],
   "source": [
    "gsrf.best_estimator_"
   ]
  },
  {
   "cell_type": "code",
   "execution_count": 61,
   "metadata": {
    "collapsed": false
   },
   "outputs": [
    {
     "data": {
      "text/plain": [
       "0.85720640569395012"
      ]
     },
     "execution_count": 61,
     "metadata": {},
     "output_type": "execute_result"
    }
   ],
   "source": [
    "gsrf.score(X_test, y_test)"
   ]
  },
  {
   "cell_type": "code",
   "execution_count": 62,
   "metadata": {
    "collapsed": false
   },
   "outputs": [],
   "source": [
    "gsrf_proba = gsrf.predict_proba(X_test)\n",
    "gsrf_pred = gsrf_proba[:,1] > 0.9"
   ]
  },
  {
   "cell_type": "code",
   "execution_count": 63,
   "metadata": {
    "collapsed": false
   },
   "outputs": [
    {
     "name": "stdout",
     "output_type": "stream",
     "text": [
      "             precision    recall  f1-score   support\n",
      "\n",
      "      False       0.23      0.84      0.36       319\n",
      "       True       0.95      0.53      0.69      1929\n",
      "\n",
      "avg / total       0.85      0.58      0.64      2248\n",
      "\n",
      "[[ 268   51]\n",
      " [ 897 1032]]\n"
     ]
    }
   ],
   "source": [
    "print classification_report(y_test, gsrf_pred)\n",
    "print confusion_matrix(y_test, gsrf_pred)"
   ]
  },
  {
   "cell_type": "code",
   "execution_count": 64,
   "metadata": {
    "collapsed": false
   },
   "outputs": [],
   "source": [
    "features = X.columns\n",
    "importances = gsrf.best_estimator_.feature_importances_\n",
    "feat_importances = pd.DataFrame(index=features, columns = ['importance'])\n",
    "feat_importances['importance'] = importances"
   ]
  },
  {
   "cell_type": "code",
   "execution_count": 65,
   "metadata": {
    "collapsed": false
   },
   "outputs": [
    {
     "data": {
      "text/html": [
       "<div>\n",
       "<table border=\"1\" class=\"dataframe\">\n",
       "  <thead>\n",
       "    <tr style=\"text-align: right;\">\n",
       "      <th></th>\n",
       "      <th>importance</th>\n",
       "    </tr>\n",
       "  </thead>\n",
       "  <tbody>\n",
       "    <tr>\n",
       "      <th>satfin</th>\n",
       "      <td>0.254712</td>\n",
       "    </tr>\n",
       "    <tr>\n",
       "      <th>age</th>\n",
       "      <td>0.122917</td>\n",
       "    </tr>\n",
       "    <tr>\n",
       "      <th>educ</th>\n",
       "      <td>0.102473</td>\n",
       "    </tr>\n",
       "    <tr>\n",
       "      <th>weekswrk</th>\n",
       "      <td>0.075270</td>\n",
       "    </tr>\n",
       "    <tr>\n",
       "      <th>polviews</th>\n",
       "      <td>0.071848</td>\n",
       "    </tr>\n",
       "    <tr>\n",
       "      <th>sibs</th>\n",
       "      <td>0.065506</td>\n",
       "    </tr>\n",
       "    <tr>\n",
       "      <th>marital_married</th>\n",
       "      <td>0.064720</td>\n",
       "    </tr>\n",
       "    <tr>\n",
       "      <th>adults</th>\n",
       "      <td>0.048811</td>\n",
       "    </tr>\n",
       "    <tr>\n",
       "      <th>childs</th>\n",
       "      <td>0.043557</td>\n",
       "    </tr>\n",
       "    <tr>\n",
       "      <th>dwelown_owns</th>\n",
       "      <td>0.032845</td>\n",
       "    </tr>\n",
       "    <tr>\n",
       "      <th>dwelown_rents</th>\n",
       "      <td>0.023808</td>\n",
       "    </tr>\n",
       "    <tr>\n",
       "      <th>marital_separated</th>\n",
       "      <td>0.021248</td>\n",
       "    </tr>\n",
       "    <tr>\n",
       "      <th>marital_never_married</th>\n",
       "      <td>0.019341</td>\n",
       "    </tr>\n",
       "    <tr>\n",
       "      <th>hhrace_black</th>\n",
       "      <td>0.019317</td>\n",
       "    </tr>\n",
       "    <tr>\n",
       "      <th>hhrace_white</th>\n",
       "      <td>0.013693</td>\n",
       "    </tr>\n",
       "    <tr>\n",
       "      <th>marital_widowed</th>\n",
       "      <td>0.009866</td>\n",
       "    </tr>\n",
       "    <tr>\n",
       "      <th>hhrace_other/mixed</th>\n",
       "      <td>0.008843</td>\n",
       "    </tr>\n",
       "    <tr>\n",
       "      <th>hhrace_asian</th>\n",
       "      <td>0.001226</td>\n",
       "    </tr>\n",
       "  </tbody>\n",
       "</table>\n",
       "</div>"
      ],
      "text/plain": [
       "                       importance\n",
       "satfin                   0.254712\n",
       "age                      0.122917\n",
       "educ                     0.102473\n",
       "weekswrk                 0.075270\n",
       "polviews                 0.071848\n",
       "sibs                     0.065506\n",
       "marital_married          0.064720\n",
       "adults                   0.048811\n",
       "childs                   0.043557\n",
       "dwelown_owns             0.032845\n",
       "dwelown_rents            0.023808\n",
       "marital_separated        0.021248\n",
       "marital_never_married    0.019341\n",
       "hhrace_black             0.019317\n",
       "hhrace_white             0.013693\n",
       "marital_widowed          0.009866\n",
       "hhrace_other/mixed       0.008843\n",
       "hhrace_asian             0.001226"
      ]
     },
     "execution_count": 65,
     "metadata": {},
     "output_type": "execute_result"
    }
   ],
   "source": [
    "feat_importances.sort_values(by='importance', ascending = False)"
   ]
  }
 ],
 "metadata": {
  "kernelspec": {
   "display_name": "Python 2",
   "language": "python",
   "name": "python2"
  },
  "language_info": {
   "codemirror_mode": {
    "name": "ipython",
    "version": 2
   },
   "file_extension": ".py",
   "mimetype": "text/x-python",
   "name": "python",
   "nbconvert_exporter": "python",
   "pygments_lexer": "ipython2",
   "version": "2.7.11"
  }
 },
 "nbformat": 4,
 "nbformat_minor": 0
}
