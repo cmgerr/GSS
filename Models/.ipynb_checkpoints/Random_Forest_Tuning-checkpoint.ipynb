{
 "cells": [
  {
   "cell_type": "code",
   "execution_count": 1,
   "metadata": {
    "collapsed": true
   },
   "outputs": [],
   "source": [
    "# imports\n",
    "import pandas as pd\n",
    "import numpy as np\n",
    "import seaborn as sns\n",
    "import matplotlib.pyplot as plt\n",
    "%matplotlib inline\n",
    "from sklearn.preprocessing import LabelEncoder\n",
    "from sklearn.cross_validation import train_test_split\n",
    "from sklearn.ensemble import RandomForestClassifier\n",
    "from sklearn.metrics import classification_report, confusion_matrix, accuracy_score\n",
    "from sklearn.grid_search import GridSearchCV\n",
    "\n",
    "# set random state to use throughout\n",
    "rs = 25"
   ]
  },
  {
   "cell_type": "code",
   "execution_count": 2,
   "metadata": {
    "collapsed": false
   },
   "outputs": [],
   "source": [
    "# import data and format it\n",
    "data = pd.read_csv('../Data/gss_subset_cleaned.csv')\n",
    "data = data[data['year']> 2005]\n",
    "# drop highly correlated columns and unusable columns identified in earlier analysis\n",
    "data.drop(['paeduc', 'maeduc', 'speduc', 'income', 'satjob', 'goodlife', \n",
    "           'health', 'year', 'hompop', 'earnrs'], axis=1, inplace=True)\n",
    "# drop less important features from first run-through of RF\n",
    "data.drop(['babies', 'preteen', 'teens', 'divorce', 'dwelling', 'sex'], axis=1, inplace=True)\n",
    "# drop NA\n",
    "data.dropna(inplace=True)"
   ]
  },
  {
   "cell_type": "code",
   "execution_count": 3,
   "metadata": {
    "collapsed": false
   },
   "outputs": [],
   "source": [
    "# set X and y. X2 drops features that are non-demographic (ie would need to be collected in interview)\n",
    "X = pd.get_dummies(data.drop('happy', axis=1), drop_first=True)\n",
    "y = data['happy'] == 1 # y is \"true\" when individual is unhappy"
   ]
  },
  {
   "cell_type": "code",
   "execution_count": 4,
   "metadata": {
    "collapsed": false
   },
   "outputs": [
    {
     "data": {
      "text/plain": [
       "False    0.858185\n",
       "True     0.141815\n",
       "Name: happy, dtype: float64"
      ]
     },
     "execution_count": 4,
     "metadata": {},
     "output_type": "execute_result"
    }
   ],
   "source": [
    "# look at % in each class\n",
    "y.value_counts()/y.count()"
   ]
  },
  {
   "cell_type": "code",
   "execution_count": 5,
   "metadata": {
    "collapsed": false
   },
   "outputs": [],
   "source": [
    "# do train_test split\n",
    "X1_train, X1_test, y_train, y_test = train_test_split(X, y,\n",
    "        stratify = y, test_size=0.2, random_state=rs)"
   ]
  },
  {
   "cell_type": "code",
   "execution_count": 6,
   "metadata": {
    "collapsed": true
   },
   "outputs": [],
   "source": [
    "# instantiate Random Forest\n",
    "rf = RandomForestClassifier(random_state=rs, n_jobs=-1)"
   ]
  },
  {
   "cell_type": "code",
   "execution_count": 7,
   "metadata": {
    "collapsed": false
   },
   "outputs": [],
   "source": [
    "# define param grid for gridsearch\n",
    "param_grid = {\n",
    "    'criterion': ['gini', 'entropy'],\n",
    "    'max_depth': [15,18,21],\n",
    "    'n_estimators': [15,18],\n",
    "    'min_samples_split': [30,40,50],\n",
    "    'min_samples_leaf': [5,10,20],\n",
    "    'max_features': [5,10,'auto']\n",
    "}"
   ]
  },
  {
   "cell_type": "code",
   "execution_count": 8,
   "metadata": {
    "collapsed": true
   },
   "outputs": [],
   "source": [
    "# instantiate gridsearch for random forest\n",
    "gsrf = GridSearchCV(rf, param_grid, n_jobs=-1)"
   ]
  },
  {
   "cell_type": "markdown",
   "metadata": {},
   "source": [
    "## Run and Evaluate Model on Fuller Training Set (including features that would need to be assessed in interview)"
   ]
  },
  {
   "cell_type": "code",
   "execution_count": 9,
   "metadata": {
    "collapsed": false
   },
   "outputs": [
    {
     "name": "stdout",
     "output_type": "stream",
     "text": [
      "RandomForestClassifier(bootstrap=True, class_weight=None, criterion='entropy',\n",
      "            max_depth=18, max_features='auto', max_leaf_nodes=None,\n",
      "            min_samples_leaf=5, min_samples_split=40,\n",
      "            min_weight_fraction_leaf=0.0, n_estimators=18, n_jobs=-1,\n",
      "            oob_score=False, random_state=25, verbose=0, warm_start=False)\n",
      "0.857206405694\n"
     ]
    }
   ],
   "source": [
    "# fit GS RF on training data, print best estimator and out-of-sample score\n",
    "gsrf.fit(X1_train, y_train)\n",
    "print gsrf.best_estimator_\n",
    "print gsrf.score(X1_test, y_test)"
   ]
  },
  {
   "cell_type": "code",
   "execution_count": 11,
   "metadata": {
    "collapsed": false
   },
   "outputs": [
    {
     "name": "stdout",
     "output_type": "stream",
     "text": [
      "             precision    recall  f1-score   support\n",
      "\n",
      "      False       0.93      0.70      0.80      1929\n",
      "       True       0.27      0.68      0.39       319\n",
      "\n",
      "avg / total       0.84      0.70      0.74      2248\n",
      "\n",
      "[[1345  584]\n",
      " [ 101  218]]\n"
     ]
    }
   ],
   "source": [
    "# Calculate prediction probabilities, use threshold of 15% to classify as unhappy\n",
    "gsrf_proba1 = gsrf.predict_proba(X1_test)\n",
    "gsrf_pred1 = gsrf_proba1[:,1] > 0.15\n",
    "print classification_report(y_test, gsrf_pred1)\n",
    "print confusion_matrix(y_test, gsrf_pred1)"
   ]
  },
  {
   "cell_type": "code",
   "execution_count": 12,
   "metadata": {
    "collapsed": false
   },
   "outputs": [
    {
     "data": {
      "text/html": [
       "<div>\n",
       "<table border=\"1\" class=\"dataframe\">\n",
       "  <thead>\n",
       "    <tr style=\"text-align: right;\">\n",
       "      <th></th>\n",
       "      <th>importance</th>\n",
       "    </tr>\n",
       "  </thead>\n",
       "  <tbody>\n",
       "    <tr>\n",
       "      <th>satfin</th>\n",
       "      <td>0.215617</td>\n",
       "    </tr>\n",
       "    <tr>\n",
       "      <th>age</th>\n",
       "      <td>0.134726</td>\n",
       "    </tr>\n",
       "    <tr>\n",
       "      <th>educ</th>\n",
       "      <td>0.114659</td>\n",
       "    </tr>\n",
       "    <tr>\n",
       "      <th>weekswrk</th>\n",
       "      <td>0.081198</td>\n",
       "    </tr>\n",
       "    <tr>\n",
       "      <th>sibs</th>\n",
       "      <td>0.080706</td>\n",
       "    </tr>\n",
       "    <tr>\n",
       "      <th>marital_married</th>\n",
       "      <td>0.069310</td>\n",
       "    </tr>\n",
       "    <tr>\n",
       "      <th>polviews</th>\n",
       "      <td>0.060786</td>\n",
       "    </tr>\n",
       "    <tr>\n",
       "      <th>childs</th>\n",
       "      <td>0.051016</td>\n",
       "    </tr>\n",
       "    <tr>\n",
       "      <th>adults</th>\n",
       "      <td>0.047980</td>\n",
       "    </tr>\n",
       "    <tr>\n",
       "      <th>dwelown_owns</th>\n",
       "      <td>0.041895</td>\n",
       "    </tr>\n",
       "    <tr>\n",
       "      <th>dwelown_rents</th>\n",
       "      <td>0.022960</td>\n",
       "    </tr>\n",
       "    <tr>\n",
       "      <th>marital_never_married</th>\n",
       "      <td>0.016422</td>\n",
       "    </tr>\n",
       "    <tr>\n",
       "      <th>hhrace_black</th>\n",
       "      <td>0.014925</td>\n",
       "    </tr>\n",
       "    <tr>\n",
       "      <th>hhrace_white</th>\n",
       "      <td>0.014305</td>\n",
       "    </tr>\n",
       "    <tr>\n",
       "      <th>marital_separated</th>\n",
       "      <td>0.013436</td>\n",
       "    </tr>\n",
       "    <tr>\n",
       "      <th>hhrace_other/mixed</th>\n",
       "      <td>0.010159</td>\n",
       "    </tr>\n",
       "    <tr>\n",
       "      <th>marital_widowed</th>\n",
       "      <td>0.008398</td>\n",
       "    </tr>\n",
       "    <tr>\n",
       "      <th>hhrace_asian</th>\n",
       "      <td>0.001501</td>\n",
       "    </tr>\n",
       "  </tbody>\n",
       "</table>\n",
       "</div>"
      ],
      "text/plain": [
       "                       importance\n",
       "satfin                   0.215617\n",
       "age                      0.134726\n",
       "educ                     0.114659\n",
       "weekswrk                 0.081198\n",
       "sibs                     0.080706\n",
       "marital_married          0.069310\n",
       "polviews                 0.060786\n",
       "childs                   0.051016\n",
       "adults                   0.047980\n",
       "dwelown_owns             0.041895\n",
       "dwelown_rents            0.022960\n",
       "marital_never_married    0.016422\n",
       "hhrace_black             0.014925\n",
       "hhrace_white             0.014305\n",
       "marital_separated        0.013436\n",
       "hhrace_other/mixed       0.010159\n",
       "marital_widowed          0.008398\n",
       "hhrace_asian             0.001501"
      ]
     },
     "execution_count": 12,
     "metadata": {},
     "output_type": "execute_result"
    }
   ],
   "source": [
    "# look at relative importance of different features\n",
    "features = X1_train.columns\n",
    "importances = gsrf.best_estimator_.feature_importances_\n",
    "feat_importances = pd.DataFrame(index=features, columns = ['importance'])\n",
    "feat_importances['importance'] = importances\n",
    "feat_importances.sort_values(by='importance', ascending = False)"
   ]
  },
  {
   "cell_type": "markdown",
   "metadata": {},
   "source": [
    "## Run and Evaluate Model on More Realistic Training Set (including only demographic/biographic information)"
   ]
  },
  {
   "cell_type": "code",
   "execution_count": 13,
   "metadata": {
    "collapsed": false
   },
   "outputs": [
    {
     "name": "stdout",
     "output_type": "stream",
     "text": [
      "RandomForestClassifier(bootstrap=True, class_weight=None, criterion='gini',\n",
      "            max_depth=15, max_features=10, max_leaf_nodes=None,\n",
      "            min_samples_leaf=10, min_samples_split=30,\n",
      "            min_weight_fraction_leaf=0.0, n_estimators=15, n_jobs=-1,\n",
      "            oob_score=False, random_state=25, verbose=0, warm_start=False)\n",
      "0.857206405694\n"
     ]
    }
   ],
   "source": [
    "# drop features that would require an interview to assess\n",
    "X2_train = X1_train.drop(['satfin', 'weekswrk', 'polviews'], axis=1)\n",
    "X2_test = X1_test.drop(['satfin', 'weekswrk', 'polviews'], axis=1)\n",
    "\n",
    "# fit GS RF and print best estimator, out-of-sample score\n",
    "gsrf.fit(X2_train, y_train)\n",
    "print gsrf.best_estimator_\n",
    "print gsrf.score(X2_test, y_test)"
   ]
  },
  {
   "cell_type": "code",
   "execution_count": 14,
   "metadata": {
    "collapsed": false
   },
   "outputs": [
    {
     "name": "stdout",
     "output_type": "stream",
     "text": [
      "             precision    recall  f1-score   support\n",
      "\n",
      "      False       0.90      0.66      0.76      1929\n",
      "       True       0.22      0.58      0.32       319\n",
      "\n",
      "avg / total       0.81      0.65      0.70      2248\n",
      "\n",
      "[[1277  652]\n",
      " [ 135  184]]\n"
     ]
    }
   ],
   "source": [
    "# Calculate prediction probabilities, use threshold of 15% to classify as unhappy\n",
    "gsrf_proba2 = gsrf.predict_proba(X2_test)\n",
    "gsrf_pred2 = gsrf_proba2[:,1] > 0.15\n",
    "print classification_report(y_test, gsrf_pred2)\n",
    "print confusion_matrix(y_test, gsrf_pred2)"
   ]
  },
  {
   "cell_type": "code",
   "execution_count": 15,
   "metadata": {
    "collapsed": false
   },
   "outputs": [
    {
     "data": {
      "text/html": [
       "<div>\n",
       "<table border=\"1\" class=\"dataframe\">\n",
       "  <thead>\n",
       "    <tr style=\"text-align: right;\">\n",
       "      <th></th>\n",
       "      <th>importance</th>\n",
       "    </tr>\n",
       "  </thead>\n",
       "  <tbody>\n",
       "    <tr>\n",
       "      <th>age</th>\n",
       "      <td>0.267041</td>\n",
       "    </tr>\n",
       "    <tr>\n",
       "      <th>educ</th>\n",
       "      <td>0.179647</td>\n",
       "    </tr>\n",
       "    <tr>\n",
       "      <th>sibs</th>\n",
       "      <td>0.132978</td>\n",
       "    </tr>\n",
       "    <tr>\n",
       "      <th>marital_married</th>\n",
       "      <td>0.116363</td>\n",
       "    </tr>\n",
       "    <tr>\n",
       "      <th>childs</th>\n",
       "      <td>0.083542</td>\n",
       "    </tr>\n",
       "    <tr>\n",
       "      <th>dwelown_owns</th>\n",
       "      <td>0.051334</td>\n",
       "    </tr>\n",
       "    <tr>\n",
       "      <th>adults</th>\n",
       "      <td>0.047193</td>\n",
       "    </tr>\n",
       "    <tr>\n",
       "      <th>dwelown_rents</th>\n",
       "      <td>0.032440</td>\n",
       "    </tr>\n",
       "    <tr>\n",
       "      <th>hhrace_white</th>\n",
       "      <td>0.021938</td>\n",
       "    </tr>\n",
       "    <tr>\n",
       "      <th>marital_never_married</th>\n",
       "      <td>0.021272</td>\n",
       "    </tr>\n",
       "    <tr>\n",
       "      <th>hhrace_black</th>\n",
       "      <td>0.016357</td>\n",
       "    </tr>\n",
       "    <tr>\n",
       "      <th>marital_separated</th>\n",
       "      <td>0.013635</td>\n",
       "    </tr>\n",
       "    <tr>\n",
       "      <th>marital_widowed</th>\n",
       "      <td>0.010600</td>\n",
       "    </tr>\n",
       "    <tr>\n",
       "      <th>hhrace_other/mixed</th>\n",
       "      <td>0.005584</td>\n",
       "    </tr>\n",
       "    <tr>\n",
       "      <th>hhrace_asian</th>\n",
       "      <td>0.000077</td>\n",
       "    </tr>\n",
       "  </tbody>\n",
       "</table>\n",
       "</div>"
      ],
      "text/plain": [
       "                       importance\n",
       "age                      0.267041\n",
       "educ                     0.179647\n",
       "sibs                     0.132978\n",
       "marital_married          0.116363\n",
       "childs                   0.083542\n",
       "dwelown_owns             0.051334\n",
       "adults                   0.047193\n",
       "dwelown_rents            0.032440\n",
       "hhrace_white             0.021938\n",
       "marital_never_married    0.021272\n",
       "hhrace_black             0.016357\n",
       "marital_separated        0.013635\n",
       "marital_widowed          0.010600\n",
       "hhrace_other/mixed       0.005584\n",
       "hhrace_asian             0.000077"
      ]
     },
     "execution_count": 15,
     "metadata": {},
     "output_type": "execute_result"
    }
   ],
   "source": [
    "# look at relative importance of different features\n",
    "features = X2_train.columns\n",
    "importances = gsrf.best_estimator_.feature_importances_\n",
    "feat_importances = pd.DataFrame(index=features, columns = ['importance'])\n",
    "feat_importances['importance'] = importances\n",
    "feat_importances.sort_values(by='importance', ascending = False)"
   ]
  },
  {
   "cell_type": "markdown",
   "metadata": {},
   "source": [
    "## Look at Model Value-Add"
   ]
  },
  {
   "cell_type": "code",
   "execution_count": 16,
   "metadata": {
    "collapsed": false
   },
   "outputs": [],
   "source": [
    "def getPlotValueAdd(probas, y_test):\n",
    "    # create dataframe with the model's predicted P(unhappy) along with boolean for actual unhappiness\n",
    "    modelprobs = pd.DataFrame()\n",
    "    modelprobs['Model_Prob_Unhappy'] = probas[:,1]\n",
    "    modelprobs['Unhappy_True'] = y_test.as_matrix()\n",
    "\n",
    "    # sort by P(Unhappy) and add columns for % Unhappy and % Happy people falling above that threshold\n",
    "    modelprobs.sort_values(by='Model_Prob_Unhappy', axis=0, inplace=True, ascending=False)\n",
    "    modelprobs['portion_unhappy_captured'] = np.cumsum(modelprobs['Unhappy_True'])/np.sum(modelprobs['Unhappy_True'])\n",
    "    modelprobs['portion_happy_mislabeled'] = np.cumsum(1-modelprobs['Unhappy_True'])/np.sum(1-modelprobs['Unhappy_True'])\n",
    "    modelprobs['ratio_correct_prediction'] = np.cumsum(modelprobs['Unhappy_True'])/(np.cumsum(modelprobs['Unhappy_True']) + np.cumsum(1-modelprobs['Unhappy_True']))\n",
    "\n",
    "    # Plot the difference\n",
    "    x = modelprobs['Model_Prob_Unhappy']\n",
    "    y1 = modelprobs['portion_unhappy_captured']\n",
    "    y2 = modelprobs['portion_happy_mislabeled']\n",
    "    y3 = modelprobs['ratio_correct_prediction']\n",
    "    plt.plot(x, y1, 'b--', x, y2, 'r--', x, y3, 'g--')\n",
    "    \n",
    "    # return DF\n",
    "    return modelprobs"
   ]
  },
  {
   "cell_type": "code",
   "execution_count": 17,
   "metadata": {
    "collapsed": false
   },
   "outputs": [
    {
     "data": {
      "image/png": "[encoded data removed]",
      "text/plain": [
       "<matplotlib.figure.Figure at 0x11a72fe90>"
      ]
     },
     "metadata": {},
     "output_type": "display_data"
    }
   ],
   "source": [
    "# look at value add for model with more features\n",
    "modelprobs1 = getPlotValueAdd(gsrf_proba1, y_test)"
   ]
  },
  {
   "cell_type": "code",
   "execution_count": 18,
   "metadata": {
    "collapsed": false
   },
   "outputs": [
    {
     "data": {
      "image/png": "[encoded data removed]",
      "text/plain": [
       "<matplotlib.figure.Figure at 0x11a7de3d0>"
      ]
     },
     "metadata": {},
     "output_type": "display_data"
    }
   ],
   "source": [
    "# look at value add for 'more realistic' model\n",
    "modelprobs2 = getPlotValueAdd(gsrf_proba2, y_test)"
   ]
  },
  {
   "cell_type": "markdown",
   "metadata": {},
   "source": [
    "## Save Data for Model FPR vs Recall"
   ]
  },
  {
   "cell_type": "code",
   "execution_count": null,
   "metadata": {
    "collapsed": true
   },
   "outputs": [],
   "source": [
    "melted = pd.melt(modelprobs2, id_vars= ['Model_Prob_Unhappy', 'Unhappy_True'])"
   ]
  },
  {
   "cell_type": "code",
   "execution_count": null,
   "metadata": {
    "collapsed": true
   },
   "outputs": [],
   "source": [
    "melted.to_csv('../Data/rf_proba_test.csv', index=False, encoding='utf-8')"
   ]
  },
  {
   "cell_type": "code",
   "execution_count": null,
   "metadata": {
    "collapsed": true
   },
   "outputs": [],
   "source": []
  }
 ],
 "metadata": {
  "kernelspec": {
   "display_name": "Python 2",
   "language": "python",
   "name": "python2"
  },
  "language_info": {
   "codemirror_mode": {
    "name": "ipython",
    "version": 2
   },
   "file_extension": ".py",
   "mimetype": "text/x-python",
   "name": "python",
   "nbconvert_exporter": "python",
   "pygments_lexer": "ipython2",
   "version": "2.7.11"
  }
 },
 "nbformat": 4,
 "nbformat_minor": 0
}
