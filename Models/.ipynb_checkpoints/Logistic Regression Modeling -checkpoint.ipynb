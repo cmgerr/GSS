{
 "cells": [
  {
   "cell_type": "code",
   "execution_count": 17,
   "metadata": {
    "collapsed": false
   },
   "outputs": [],
   "source": [
    "from sklearn.linear_model import LogisticRegression \n",
    "from sklearn.cross_validation import cross_val_score\n",
    "from sklearn.grid_search import GridSearchCV\n",
    "import pandas as pd\n",
    "import numpy as np "
   ]
  },
  {
   "cell_type": "code",
   "execution_count": 18,
   "metadata": {
    "collapsed": false
   },
   "outputs": [],
   "source": [
    "# import data and format it\n",
    "data = pd.read_csv('../Data/gss_subset_cleaned.csv')\n",
    "data = data[data['year']> 2005]\n",
    "\n",
    "# drop subjective columns and unusable columns\n",
    "data.drop(['paeduc', 'maeduc', 'speduc', 'income', 'satjob', 'satfin', 'goodlife', \n",
    "           'health', 'year', 'hompop', 'earnrs', 'weekswrk', 'polviews'], axis=1, inplace=True)\n",
    "\n",
    "# drop NA\n",
    "data.dropna(inplace=True)"
   ]
  },
  {
   "cell_type": "code",
   "execution_count": 19,
   "metadata": {
    "collapsed": true
   },
   "outputs": [],
   "source": [
    "# set X and y.drop non-demographic features(ie would need to be collected in interview)\n",
    "X = pd.get_dummies(data.drop('happy', axis=1), drop_first=True)\n",
    "y = data['happy'] == 1 # y is \"true\" when individual is unhappy"
   ]
  },
  {
   "cell_type": "code",
   "execution_count": 43,
   "metadata": {
    "collapsed": true
   },
   "outputs": [],
   "source": [
    "C_range = 10.**np.arange(-2, 3)\n",
    "param_grid = {'C':C_range, 'fit_intercept':[True, False], \n",
    "              'solver' : ['newton-cg', 'lbfgs', 'liblinear', 'sag']}"
   ]
  },
  {
   "cell_type": "code",
   "execution_count": 44,
   "metadata": {
    "collapsed": false
   },
   "outputs": [],
   "source": [
    "log_reg = LogisticRegression(n_jobs=-1)"
   ]
  },
  {
   "cell_type": "code",
   "execution_count": 45,
   "metadata": {
    "collapsed": false
   },
   "outputs": [
    {
     "data": {
      "text/plain": [
       "GridSearchCV(cv=10, error_score='raise',\n",
       "       estimator=LogisticRegression(C=1.0, class_weight=None, dual=False, fit_intercept=True,\n",
       "          intercept_scaling=1, max_iter=100, multi_class='ovr', n_jobs=-1,\n",
       "          penalty='l2', random_state=None, solver='liblinear', tol=0.0001,\n",
       "          verbose=0, warm_start=False),\n",
       "       fit_params={}, iid=True, n_jobs=1,\n",
       "       param_grid={'C': array([  1.00000e-02,   1.00000e-01,   1.00000e+00,   1.00000e+01,\n",
       "         1.00000e+02]), 'solver': ['newton-cg', 'lbfgs', 'liblinear', 'sag'], 'fit_intercept': [True, False]},\n",
       "       pre_dispatch='2*n_jobs', refit=True, scoring='roc_auc', verbose=0)"
      ]
     },
     "execution_count": 45,
     "metadata": {},
     "output_type": "execute_result"
    }
   ],
   "source": [
    "grid = GridSearchCV(log_reg, param_grid, cv=10, scoring='roc_auc')\n",
    "grid.fit(X, y)"
   ]
  },
  {
   "cell_type": "code",
   "execution_count": 47,
   "metadata": {
    "collapsed": false
   },
   "outputs": [
    {
     "name": "stdout",
     "output_type": "stream",
     "text": [
      "LogisticRegression(C=0.10000000000000001, class_weight=None, dual=False,\n",
      "          fit_intercept=False, intercept_scaling=1, max_iter=100,\n",
      "          multi_class='ovr', n_jobs=-1, penalty='l2', random_state=None,\n",
      "          solver='liblinear', tol=0.0001, verbose=0, warm_start=False)\n"
     ]
    },
    {
     "data": {
      "text/plain": [
       "[mean: 0.69141, std: 0.02062, params: {'C': 0.01, 'solver': 'newton-cg', 'fit_intercept': True},\n",
       " mean: 0.69145, std: 0.02079, params: {'C': 0.01, 'solver': 'lbfgs', 'fit_intercept': True},\n",
       " mean: 0.69135, std: 0.02076, params: {'C': 0.01, 'solver': 'liblinear', 'fit_intercept': True},\n",
       " mean: 0.69135, std: 0.02072, params: {'C': 0.01, 'solver': 'sag', 'fit_intercept': True},\n",
       " mean: 0.69132, std: 0.02077, params: {'C': 0.01, 'solver': 'newton-cg', 'fit_intercept': False},\n",
       " mean: 0.69133, std: 0.02074, params: {'C': 0.01, 'solver': 'lbfgs', 'fit_intercept': False},\n",
       " mean: 0.69131, std: 0.02077, params: {'C': 0.01, 'solver': 'liblinear', 'fit_intercept': False},\n",
       " mean: 0.69131, std: 0.02075, params: {'C': 0.01, 'solver': 'sag', 'fit_intercept': False},\n",
       " mean: 0.69310, std: 0.02279, params: {'C': 0.10000000000000001, 'solver': 'newton-cg', 'fit_intercept': True},\n",
       " mean: 0.69324, std: 0.02279, params: {'C': 0.10000000000000001, 'solver': 'lbfgs', 'fit_intercept': True},\n",
       " mean: 0.69321, std: 0.02289, params: {'C': 0.10000000000000001, 'solver': 'liblinear', 'fit_intercept': True},\n",
       " mean: 0.69316, std: 0.02295, params: {'C': 0.10000000000000001, 'solver': 'sag', 'fit_intercept': True},\n",
       " mean: 0.69319, std: 0.02295, params: {'C': 0.10000000000000001, 'solver': 'newton-cg', 'fit_intercept': False},\n",
       " mean: 0.69318, std: 0.02306, params: {'C': 0.10000000000000001, 'solver': 'lbfgs', 'fit_intercept': False},\n",
       " mean: 0.69324, std: 0.02294, params: {'C': 0.10000000000000001, 'solver': 'liblinear', 'fit_intercept': False},\n",
       " mean: 0.69316, std: 0.02303, params: {'C': 0.10000000000000001, 'solver': 'sag', 'fit_intercept': False},\n",
       " mean: 0.69265, std: 0.02289, params: {'C': 1.0, 'solver': 'newton-cg', 'fit_intercept': True},\n",
       " mean: 0.69309, std: 0.02343, params: {'C': 1.0, 'solver': 'lbfgs', 'fit_intercept': True},\n",
       " mean: 0.69271, std: 0.02294, params: {'C': 1.0, 'solver': 'liblinear', 'fit_intercept': True},\n",
       " mean: 0.69302, std: 0.02330, params: {'C': 1.0, 'solver': 'sag', 'fit_intercept': True},\n",
       " mean: 0.69289, std: 0.02305, params: {'C': 1.0, 'solver': 'newton-cg', 'fit_intercept': False},\n",
       " mean: 0.69288, std: 0.02329, params: {'C': 1.0, 'solver': 'lbfgs', 'fit_intercept': False},\n",
       " mean: 0.69290, std: 0.02307, params: {'C': 1.0, 'solver': 'liblinear', 'fit_intercept': False},\n",
       " mean: 0.69310, std: 0.02333, params: {'C': 1.0, 'solver': 'sag', 'fit_intercept': False},\n",
       " mean: 0.69222, std: 0.02286, params: {'C': 10.0, 'solver': 'newton-cg', 'fit_intercept': True},\n",
       " mean: 0.69264, std: 0.02302, params: {'C': 10.0, 'solver': 'lbfgs', 'fit_intercept': True},\n",
       " mean: 0.69240, std: 0.02285, params: {'C': 10.0, 'solver': 'liblinear', 'fit_intercept': True},\n",
       " mean: 0.69300, std: 0.02332, params: {'C': 10.0, 'solver': 'sag', 'fit_intercept': True},\n",
       " mean: 0.69275, std: 0.02310, params: {'C': 10.0, 'solver': 'newton-cg', 'fit_intercept': False},\n",
       " mean: 0.69305, std: 0.02321, params: {'C': 10.0, 'solver': 'lbfgs', 'fit_intercept': False},\n",
       " mean: 0.69277, std: 0.02311, params: {'C': 10.0, 'solver': 'liblinear', 'fit_intercept': False},\n",
       " mean: 0.69308, std: 0.02337, params: {'C': 10.0, 'solver': 'sag', 'fit_intercept': False},\n",
       " mean: 0.69214, std: 0.02287, params: {'C': 100.0, 'solver': 'newton-cg', 'fit_intercept': True},\n",
       " mean: 0.69291, std: 0.02341, params: {'C': 100.0, 'solver': 'lbfgs', 'fit_intercept': True},\n",
       " mean: 0.69237, std: 0.02283, params: {'C': 100.0, 'solver': 'liblinear', 'fit_intercept': True},\n",
       " mean: 0.69300, std: 0.02331, params: {'C': 100.0, 'solver': 'sag', 'fit_intercept': True},\n",
       " mean: 0.69274, std: 0.02309, params: {'C': 100.0, 'solver': 'newton-cg', 'fit_intercept': False},\n",
       " mean: 0.69290, std: 0.02325, params: {'C': 100.0, 'solver': 'lbfgs', 'fit_intercept': False},\n",
       " mean: 0.69278, std: 0.02311, params: {'C': 100.0, 'solver': 'liblinear', 'fit_intercept': False},\n",
       " mean: 0.69308, std: 0.02340, params: {'C': 100.0, 'solver': 'sag', 'fit_intercept': False}]"
      ]
     },
     "execution_count": 47,
     "metadata": {},
     "output_type": "execute_result"
    }
   ],
   "source": [
    "print grid.best_estimator_\n",
    "grid.grid_scores_"
   ]
  },
  {
   "cell_type": "code",
   "execution_count": null,
   "metadata": {
    "collapsed": true
   },
   "outputs": [],
   "source": []
  }
 ],
 "metadata": {
  "kernelspec": {
   "display_name": "Python 2",
   "language": "python",
   "name": "python2"
  },
  "language_info": {
   "codemirror_mode": {
    "name": "ipython",
    "version": 2
   },
   "file_extension": ".py",
   "mimetype": "text/x-python",
   "name": "python",
   "nbconvert_exporter": "python",
   "pygments_lexer": "ipython2",
   "version": "2.7.11"
  }
 },
 "nbformat": 4,
 "nbformat_minor": 0
}
