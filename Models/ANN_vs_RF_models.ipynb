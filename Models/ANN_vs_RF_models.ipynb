{
 "cells": [
  {
   "cell_type": "code",
   "execution_count": 1,
   "metadata": {
    "collapsed": false
   },
   "outputs": [
    {
     "name": "stderr",
     "output_type": "stream",
     "text": [
      "Using Theano backend.\n"
     ]
    }
   ],
   "source": [
    "# normal imports\n",
    "import pandas as pd\n",
    "import numpy as np\n",
    "\n",
    "# ANN imports\n",
    "from keras.models import Sequential\n",
    "from keras.layers import Dense, Activation, Dropout\n",
    "from keras.utils import np_utils\n",
    "from keras.optimizers import SGD, RMSprop\n",
    "\n",
    "# sklearn imports\n",
    "from sklearn.preprocessing import LabelEncoder\n",
    "from sklearn.cross_validation import train_test_split\n",
    "from sklearn.ensemble import RandomForestClassifier\n",
    "from sklearn.metrics import classification_report, confusion_matrix, accuracy_score\n",
    "\n",
    "# set random state to use throughout\n",
    "rs = 25"
   ]
  },
  {
   "cell_type": "code",
   "execution_count": 2,
   "metadata": {
    "collapsed": true
   },
   "outputs": [],
   "source": [
    "# code to return train/test values using categorical data\n",
    "def trainTestCategorical(X, y):\n",
    "    X_train, X_test, y_train, y_test = train_test_split(X.as_matrix(), y.as_matrix(),\n",
    "        test_size=0.2, random_state=rs)\n",
    "    # set categorical targets formatted for ANN: one column per class\n",
    "    yc_train = pd.get_dummies(y_train).as_matrix()\n",
    "    yc_test = pd.get_dummies(y_test).as_matrix()\n",
    "    # set categorical targets formatted for other models using Label Encoder\n",
    "    le = LabelEncoder()\n",
    "    ye_train = le.fit_transform(y_train)\n",
    "    ye_test = le.transform(y_test)\n",
    "    return X_train, X_test, yc_train, yc_test, ye_train, ye_test, le"
   ]
  },
  {
   "cell_type": "code",
   "execution_count": 3,
   "metadata": {
    "collapsed": true
   },
   "outputs": [],
   "source": [
    "# function specifying layers of ANN model\n",
    "def doSequentialModel(dim_input, dim_output):\n",
    "    model = Sequential()\n",
    "\n",
    "    model.add(Dense(32, input_dim=dim_input, activation = 'tanh'))\n",
    "    model.add(Dropout(0.25))\n",
    "\n",
    "    model.add(Dense(32, activation = 'relu'))\n",
    "    model.add(Dropout(0.25))\n",
    "\n",
    "    model.add(Dense(dim_output, activation='softmax'))\n",
    "\n",
    "    sgd = SGD(lr = .05)\n",
    "    model.compile(optimizer = sgd, loss = 'mse', metrics = ['accuracy'])\n",
    "    \n",
    "    return model"
   ]
  },
  {
   "cell_type": "code",
   "execution_count": 4,
   "metadata": {
    "collapsed": true
   },
   "outputs": [],
   "source": [
    "# function to create and fit ANN\n",
    "def createFitANN(X_train, y_train):\n",
    "    model = doSequentialModel(X_train.shape[1],y_train.shape[1])\n",
    "    model.fit(X_train, y_train, nb_epoch = 20, batch_size = 100)\n",
    "    return model"
   ]
  },
  {
   "cell_type": "code",
   "execution_count": 5,
   "metadata": {
    "collapsed": true
   },
   "outputs": [],
   "source": [
    "def evalClassifier(y_true, y_pred):\n",
    "    print 'confusion matrix \\n', confusion_matrix(y_true, y_pred)\n",
    "    print 'classification report \\n', classification_report(y_true, y_pred)\n",
    "    print 'accuracy score \\n', accuracy_score(y_true, y_pred)"
   ]
  },
  {
   "cell_type": "code",
   "execution_count": 6,
   "metadata": {
    "collapsed": true
   },
   "outputs": [],
   "source": [
    "def fitEvalRFClassifier(X_train, X_test, y_train, y_test):\n",
    "    rf = RandomForestClassifier(n_jobs=-1,random_state=rs)\n",
    "    rf.fit(X_train, y_train)\n",
    "    rf_pred = rf.predict(X_test)\n",
    "    evalClassifier(y_test, rf_pred)"
   ]
  },
  {
   "cell_type": "code",
   "execution_count": 7,
   "metadata": {
    "collapsed": false
   },
   "outputs": [
    {
     "data": {
      "text/plain": [
       "Index([u'marital', u'divorce', u'sibs', u'childs', u'age', u'educ', u'sex',\n",
       "       u'hompop', u'babies', u'preteen', u'teens', u'adults', u'earnrs',\n",
       "       u'polviews', u'happy', u'weekswrk', u'satfin', u'dwelling', u'dwelown',\n",
       "       u'hhrace'],\n",
       "      dtype='object')"
      ]
     },
     "execution_count": 7,
     "metadata": {},
     "output_type": "execute_result"
    }
   ],
   "source": [
    "# import data and format it\n",
    "data = pd.read_csv('../Data/gss_subset_cleaned.csv')\n",
    "data = data[data['year']> 2005]\n",
    "data.drop(['paeduc', 'maeduc', 'speduc', 'income', 'satjob', 'goodlife','health', 'year'], axis=1, inplace=True)\n",
    "# for initial model, just drop all na\n",
    "data.dropna(inplace=True)\n",
    "\n",
    "data.columns"
   ]
  },
  {
   "cell_type": "markdown",
   "metadata": {},
   "source": [
    "# ANN and RF for predicting happy vs unhappy"
   ]
  },
  {
   "cell_type": "code",
   "execution_count": 8,
   "metadata": {
    "collapsed": false
   },
   "outputs": [
    {
     "data": {
      "text/plain": [
       "1.0    0.142291\n",
       "2.0    0.559948\n",
       "3.0    0.297761\n",
       "Name: happy, dtype: float64"
      ]
     },
     "execution_count": 8,
     "metadata": {},
     "output_type": "execute_result"
    }
   ],
   "source": [
    "# set target and columns to exclude\n",
    "target = 'happy'\n",
    "exclude_cols = []\n",
    "exclude_cols.append(target)\n",
    "\n",
    "# X, y\n",
    "y = data[target] > 1\n",
    "X = pd.get_dummies(data.drop(exclude_cols, axis=1), drop_first=True)\n",
    "\n",
    "# check the ratio of target values: determine threshold for beating guessing\n",
    "(data[target].value_counts()/data[target].count()).sort_index()"
   ]
  },
  {
   "cell_type": "code",
   "execution_count": 9,
   "metadata": {
    "collapsed": true
   },
   "outputs": [],
   "source": [
    "# do train test split\n",
    "X_train, X_test, yc_train, yc_test, ye_train, ye_test, le = trainTestCategorical(X, y)"
   ]
  },
  {
   "cell_type": "code",
   "execution_count": 14,
   "metadata": {
    "collapsed": false
   },
   "outputs": [
    {
     "name": "stdout",
     "output_type": "stream",
     "text": [
      "Epoch 1/20\n",
      "8680/8680 [==============================] - 0s - loss: 0.1451 - acc: 0.8202     \n",
      "Epoch 2/20\n",
      "8680/8680 [==============================] - 0s - loss: 0.1255 - acc: 0.8585     \n",
      "Epoch 3/20\n",
      "8680/8680 [==============================] - 0s - loss: 0.1254 - acc: 0.8577     \n",
      "Epoch 4/20\n",
      "8680/8680 [==============================] - 0s - loss: 0.1240 - acc: 0.8581     \n",
      "Epoch 5/20\n",
      "8680/8680 [==============================] - 0s - loss: 0.1239 - acc: 0.8579     \n",
      "Epoch 6/20\n",
      "8680/8680 [==============================] - 0s - loss: 0.1233 - acc: 0.8579     \n",
      "Epoch 7/20\n",
      "8680/8680 [==============================] - 0s - loss: 0.1232 - acc: 0.8579     \n",
      "Epoch 8/20\n",
      "8680/8680 [==============================] - 0s - loss: 0.1229 - acc: 0.8585     \n",
      "Epoch 9/20\n",
      "8680/8680 [==============================] - 0s - loss: 0.1231 - acc: 0.8585     \n",
      "Epoch 10/20\n",
      "8680/8680 [==============================] - 0s - loss: 0.1230 - acc: 0.8584     \n",
      "Epoch 11/20\n",
      "8680/8680 [==============================] - 0s - loss: 0.1221 - acc: 0.8585     \n",
      "Epoch 12/20\n",
      "8680/8680 [==============================] - 0s - loss: 0.1224 - acc: 0.8584     \n",
      "Epoch 13/20\n",
      "8680/8680 [==============================] - 0s - loss: 0.1229 - acc: 0.8585     \n",
      "Epoch 14/20\n",
      "8680/8680 [==============================] - 0s - loss: 0.1216 - acc: 0.8585     \n",
      "Epoch 15/20\n",
      "8680/8680 [==============================] - 0s - loss: 0.1218 - acc: 0.8585     \n",
      "Epoch 16/20\n",
      "8680/8680 [==============================] - 0s - loss: 0.1218 - acc: 0.8585     \n",
      "Epoch 17/20\n",
      "8680/8680 [==============================] - 0s - loss: 0.1220 - acc: 0.8585     \n",
      "Epoch 18/20\n",
      "8680/8680 [==============================] - 0s - loss: 0.1223 - acc: 0.8585     \n",
      "Epoch 19/20\n",
      "8680/8680 [==============================] - 0s - loss: 0.1218 - acc: 0.8585     \n",
      "Epoch 20/20\n",
      "8680/8680 [==============================] - 0s - loss: 0.1210 - acc: 0.8585     \n",
      "testing set evaluation\n",
      "1216/2171 [===============>..............] - ETA: 0s"
     ]
    },
    {
     "data": {
      "text/plain": [
       "[0.12277045975366753, 0.85444495604917892]"
      ]
     },
     "execution_count": 14,
     "metadata": {},
     "output_type": "execute_result"
    }
   ],
   "source": [
    "# fit and evaluate ANN model\n",
    "model = createFitANN(X_train, yc_train)\n",
    "print 'testing set evaluation'\n",
    "model.evaluate(X_test, yc_test)"
   ]
  },
  {
   "cell_type": "code",
   "execution_count": 12,
   "metadata": {
    "collapsed": false
   },
   "outputs": [
    {
     "name": "stdout",
     "output_type": "stream",
     "text": [
      "confusion matrix \n",
      "[[  58  258]\n",
      " [  96 1759]]\n",
      "classification report \n",
      "             precision    recall  f1-score   support\n",
      "\n",
      "          0       0.38      0.18      0.25       316\n",
      "          1       0.87      0.95      0.91      1855\n",
      "\n",
      "avg / total       0.80      0.84      0.81      2171\n",
      "\n",
      "accuracy score \n",
      "0.836941501612\n"
     ]
    }
   ],
   "source": [
    "# compare with Random Forest model\n",
    "fitEvalRFClassifier(X_train, X_test, ye_train, ye_test)"
   ]
  },
  {
   "cell_type": "markdown",
   "metadata": {},
   "source": [
    "# ANN and RF for predicting marital status"
   ]
  },
  {
   "cell_type": "code",
   "execution_count": 15,
   "metadata": {
    "collapsed": false
   },
   "outputs": [
    {
     "data": {
      "text/plain": [
       "divorced         0.161183\n",
       "married          0.460787\n",
       "never_married    0.260621\n",
       "separated        0.032532\n",
       "widowed          0.084877\n",
       "Name: marital, dtype: float64"
      ]
     },
     "execution_count": 15,
     "metadata": {},
     "output_type": "execute_result"
    }
   ],
   "source": [
    "# set target and columns to exclude\n",
    "target = 'marital'\n",
    "exclude_cols = ['divorce'] #including divorce status would be cheating..!\n",
    "exclude_cols.append(target)\n",
    "\n",
    "# X, y\n",
    "y = data[target]\n",
    "X = pd.get_dummies(data.drop(exclude_cols, axis=1), drop_first=True)\n",
    "\n",
    "# check the ratio of target values: determine threshold for beating guessing\n",
    "(data[target].value_counts()/data[target].count()).sort_index()"
   ]
  },
  {
   "cell_type": "code",
   "execution_count": 16,
   "metadata": {
    "collapsed": true
   },
   "outputs": [],
   "source": [
    "# do train test split\n",
    "X_train, X_test, yc_train, yc_test, ye_train, ye_test, le = trainTestCategorical(X, y)"
   ]
  },
  {
   "cell_type": "code",
   "execution_count": 17,
   "metadata": {
    "collapsed": false
   },
   "outputs": [
    {
     "name": "stdout",
     "output_type": "stream",
     "text": [
      "Epoch 1/20\n",
      "8680/8680 [==============================] - 0s - loss: 0.1565 - acc: 0.3634     \n",
      "Epoch 2/20\n",
      "8680/8680 [==============================] - 0s - loss: 0.1439 - acc: 0.4499     \n",
      "Epoch 3/20\n",
      "8680/8680 [==============================] - 0s - loss: 0.1407 - acc: 0.4539     \n",
      "Epoch 4/20\n",
      "8680/8680 [==============================] - 0s - loss: 0.1385 - acc: 0.4615     \n",
      "Epoch 5/20\n",
      "8680/8680 [==============================] - 0s - loss: 0.1373 - acc: 0.4649     \n",
      "Epoch 6/20\n",
      "8680/8680 [==============================] - 0s - loss: 0.1355 - acc: 0.4700     \n",
      "Epoch 7/20\n",
      "8680/8680 [==============================] - 0s - loss: 0.1334 - acc: 0.4782     \n",
      "Epoch 8/20\n",
      "8680/8680 [==============================] - 0s - loss: 0.1320 - acc: 0.4873     \n",
      "Epoch 9/20\n",
      "8680/8680 [==============================] - 0s - loss: 0.1312 - acc: 0.4902     \n",
      "Epoch 10/20\n",
      "8680/8680 [==============================] - 0s - loss: 0.1308 - acc: 0.4906     \n",
      "Epoch 11/20\n",
      "8680/8680 [==============================] - 0s - loss: 0.1294 - acc: 0.5020     \n",
      "Epoch 12/20\n",
      "8680/8680 [==============================] - 0s - loss: 0.1282 - acc: 0.5058     \n",
      "Epoch 13/20\n",
      "8680/8680 [==============================] - 0s - loss: 0.1280 - acc: 0.5033     \n",
      "Epoch 14/20\n",
      "8680/8680 [==============================] - 0s - loss: 0.1267 - acc: 0.5092     \n",
      "Epoch 15/20\n",
      "8680/8680 [==============================] - 0s - loss: 0.1268 - acc: 0.5131     \n",
      "Epoch 16/20\n",
      "8680/8680 [==============================] - 0s - loss: 0.1264 - acc: 0.5107     \n",
      "Epoch 17/20\n",
      "8680/8680 [==============================] - 0s - loss: 0.1259 - acc: 0.5137     \n",
      "Epoch 18/20\n",
      "8680/8680 [==============================] - 0s - loss: 0.1241 - acc: 0.5194     \n",
      "Epoch 19/20\n",
      "8680/8680 [==============================] - 0s - loss: 0.1230 - acc: 0.5272     \n",
      "Epoch 20/20\n",
      "8680/8680 [==============================] - 0s - loss: 0.1234 - acc: 0.5251     \n",
      "testing set evaluation\n",
      "1920/2171 [=========================>....] - ETA: 0s"
     ]
    },
    {
     "data": {
      "text/plain": [
       "[0.11649146525061443, 0.54813450036758327]"
      ]
     },
     "execution_count": 17,
     "metadata": {},
     "output_type": "execute_result"
    }
   ],
   "source": [
    "# fit and evaluate ANN model\n",
    "model = createFitANN(X_train, yc_train)\n",
    "print 'testing set evaluation'\n",
    "model.evaluate(X_test, yc_test)"
   ]
  },
  {
   "cell_type": "code",
   "execution_count": 18,
   "metadata": {
    "collapsed": false
   },
   "outputs": [
    {
     "name": "stdout",
     "output_type": "stream",
     "text": [
      "confusion matrix \n",
      "[[153  97  75   2  49]\n",
      " [ 30 886  41   1   4]\n",
      " [ 55  96 401   0   8]\n",
      " [ 25  24  28   0   7]\n",
      " [ 47  31  22   0  89]]\n",
      "classification report \n",
      "             precision    recall  f1-score   support\n",
      "\n",
      "          0       0.49      0.41      0.45       376\n",
      "          1       0.78      0.92      0.85       962\n",
      "          2       0.71      0.72      0.71       560\n",
      "          3       0.00      0.00      0.00        84\n",
      "          4       0.57      0.47      0.51       189\n",
      "\n",
      "avg / total       0.66      0.70      0.68      2171\n",
      "\n",
      "accuracy score \n",
      "0.704283740212\n"
     ]
    }
   ],
   "source": [
    "# compare with Random Forest model\n",
    "fitEvalRFClassifier(X_train, X_test, ye_train, ye_test)"
   ]
  },
  {
   "cell_type": "markdown",
   "metadata": {},
   "source": [
    "# ANN and RF for predicting gender"
   ]
  },
  {
   "cell_type": "code",
   "execution_count": 19,
   "metadata": {
    "collapsed": false
   },
   "outputs": [
    {
     "data": {
      "text/plain": [
       "Female    0.553405\n",
       "Male      0.446595\n",
       "Name: sex, dtype: float64"
      ]
     },
     "execution_count": 19,
     "metadata": {},
     "output_type": "execute_result"
    }
   ],
   "source": [
    "# set target and columns to exclude\n",
    "target = 'sex'\n",
    "exclude_cols = []\n",
    "exclude_cols.append(target)\n",
    "\n",
    "# X, y\n",
    "y = data[target]\n",
    "X = pd.get_dummies(data.drop(exclude_cols, axis=1), drop_first=True)\n",
    "\n",
    "# check the ratio of target values: determine threshold for beating guessing\n",
    "(data[target].value_counts()/data[target].count()).sort_index()"
   ]
  },
  {
   "cell_type": "code",
   "execution_count": 20,
   "metadata": {
    "collapsed": false
   },
   "outputs": [
    {
     "name": "stdout",
     "output_type": "stream",
     "text": [
      "Epoch 1/20\n",
      "8680/8680 [==============================] - 0s - loss: 0.2622 - acc: 0.5273     \n",
      "Epoch 2/20\n",
      "8680/8680 [==============================] - 0s - loss: 0.2512 - acc: 0.5406     \n",
      "Epoch 3/20\n",
      "8680/8680 [==============================] - 0s - loss: 0.2485 - acc: 0.5412     \n",
      "Epoch 4/20\n",
      "8680/8680 [==============================] - 0s - loss: 0.2476 - acc: 0.5450     \n",
      "Epoch 5/20\n",
      "8680/8680 [==============================] - 0s - loss: 0.2462 - acc: 0.5510     \n",
      "Epoch 6/20\n",
      "8680/8680 [==============================] - 0s - loss: 0.2451 - acc: 0.5535     \n",
      "Epoch 7/20\n",
      "8680/8680 [==============================] - 0s - loss: 0.2444 - acc: 0.5588     \n",
      "Epoch 8/20\n",
      "8680/8680 [==============================] - 0s - loss: 0.2452 - acc: 0.5506     \n",
      "Epoch 9/20\n",
      "8680/8680 [==============================] - 0s - loss: 0.2442 - acc: 0.5639     \n",
      "Epoch 10/20\n",
      "8680/8680 [==============================] - 0s - loss: 0.2445 - acc: 0.5585     \n",
      "Epoch 11/20\n",
      "8680/8680 [==============================] - 0s - loss: 0.2444 - acc: 0.5506     \n",
      "Epoch 12/20\n",
      "8680/8680 [==============================] - 0s - loss: 0.2444 - acc: 0.5548     \n",
      "Epoch 13/20\n",
      "8680/8680 [==============================] - 0s - loss: 0.2441 - acc: 0.5583     \n",
      "Epoch 14/20\n",
      "8680/8680 [==============================] - 0s - loss: 0.2450 - acc: 0.5599     \n",
      "Epoch 15/20\n",
      "8680/8680 [==============================] - 0s - loss: 0.2440 - acc: 0.5537     \n",
      "Epoch 16/20\n",
      "8680/8680 [==============================] - 0s - loss: 0.2440 - acc: 0.5538     \n",
      "Epoch 17/20\n",
      "8680/8680 [==============================] - 0s - loss: 0.2443 - acc: 0.5487     \n",
      "Epoch 18/20\n",
      "8680/8680 [==============================] - 0s - loss: 0.2445 - acc: 0.5510     \n",
      "Epoch 19/20\n",
      "8680/8680 [==============================] - 0s - loss: 0.2440 - acc: 0.5501     \n",
      "Epoch 20/20\n",
      "8680/8680 [==============================] - 0s - loss: 0.2435 - acc: 0.5628     \n",
      "testing set evaluation\n",
      "2080/2171 [===========================>..] - ETA: 0s"
     ]
    },
    {
     "data": {
      "text/plain": [
       "[0.2439257891935338, 0.54813450028521848]"
      ]
     },
     "execution_count": 20,
     "metadata": {},
     "output_type": "execute_result"
    }
   ],
   "source": [
    "# do train test split\n",
    "X_train, X_test, yc_train, yc_test, ye_train, ye_test, le = trainTestCategorical(X, y)\n",
    "\n",
    "# fit and evaluate ANN model\n",
    "model = createFitANN(X_train, yc_train)\n",
    "print 'testing set evaluation'\n",
    "model.evaluate(X_test, yc_test)"
   ]
  },
  {
   "cell_type": "code",
   "execution_count": 21,
   "metadata": {
    "collapsed": false
   },
   "outputs": [
    {
     "name": "stdout",
     "output_type": "stream",
     "text": [
      "confusion matrix \n",
      "[[877 291]\n",
      " [566 437]]\n",
      "classification report \n",
      "             precision    recall  f1-score   support\n",
      "\n",
      "          0       0.61      0.75      0.67      1168\n",
      "          1       0.60      0.44      0.50      1003\n",
      "\n",
      "avg / total       0.60      0.61      0.59      2171\n",
      "\n",
      "accuracy score \n",
      "0.605251036389\n"
     ]
    }
   ],
   "source": [
    "# compare with Random Forest model\n",
    "fitEvalRFClassifier(X_train, X_test, ye_train, ye_test)"
   ]
  },
  {
   "cell_type": "markdown",
   "metadata": {},
   "source": [
    "# ANN and RF for predicting home ownership/rental/other status"
   ]
  },
  {
   "cell_type": "code",
   "execution_count": 23,
   "metadata": {
    "collapsed": false
   },
   "outputs": [
    {
     "data": {
      "text/plain": [
       "other    0.343931\n",
       "owns     0.427057\n",
       "rents    0.229011\n",
       "Name: dwelown, dtype: float64"
      ]
     },
     "execution_count": 23,
     "metadata": {},
     "output_type": "execute_result"
    }
   ],
   "source": [
    "# set target and columns to exclude\n",
    "target = 'dwelown'\n",
    "exclude_cols = []\n",
    "exclude_cols.append(target)\n",
    "\n",
    "# X, y\n",
    "y = data[target]\n",
    "X = pd.get_dummies(data.drop(exclude_cols, axis=1), drop_first=True)\n",
    "\n",
    "# check the ratio of target values: determine threshold for beating guessing\n",
    "(data[target].value_counts()/data[target].count()).sort_index()"
   ]
  },
  {
   "cell_type": "code",
   "execution_count": 24,
   "metadata": {
    "collapsed": false
   },
   "outputs": [
    {
     "name": "stdout",
     "output_type": "stream",
     "text": [
      "Epoch 1/20\n",
      "8680/8680 [==============================] - 0s - loss: 0.2352 - acc: 0.3869     \n",
      "Epoch 2/20\n",
      "8680/8680 [==============================] - 0s - loss: 0.2205 - acc: 0.4149     \n",
      "Epoch 3/20\n",
      "8680/8680 [==============================] - 0s - loss: 0.2170 - acc: 0.4293     \n",
      "Epoch 4/20\n",
      "8680/8680 [==============================] - 0s - loss: 0.2169 - acc: 0.4276     \n",
      "Epoch 5/20\n",
      "8680/8680 [==============================] - 0s - loss: 0.2163 - acc: 0.4268     \n",
      "Epoch 6/20\n",
      "8680/8680 [==============================] - 0s - loss: 0.2145 - acc: 0.4418     \n",
      "Epoch 7/20\n",
      "8680/8680 [==============================] - 0s - loss: 0.2150 - acc: 0.4364     \n",
      "Epoch 8/20\n",
      "8680/8680 [==============================] - 0s - loss: 0.2147 - acc: 0.4355     \n",
      "Epoch 9/20\n",
      "8680/8680 [==============================] - 0s - loss: 0.2135 - acc: 0.4434     \n",
      "Epoch 10/20\n",
      "8680/8680 [==============================] - 0s - loss: 0.2141 - acc: 0.4384     \n",
      "Epoch 11/20\n",
      "8680/8680 [==============================] - 0s - loss: 0.2138 - acc: 0.4376     \n",
      "Epoch 12/20\n",
      "8680/8680 [==============================] - 0s - loss: 0.2134 - acc: 0.4453     \n",
      "Epoch 13/20\n",
      "8680/8680 [==============================] - 0s - loss: 0.2134 - acc: 0.4415     \n",
      "Epoch 14/20\n",
      "8680/8680 [==============================] - 0s - loss: 0.2133 - acc: 0.4393     \n",
      "Epoch 15/20\n",
      "8680/8680 [==============================] - 0s - loss: 0.2129 - acc: 0.4453     \n",
      "Epoch 16/20\n",
      "8680/8680 [==============================] - 0s - loss: 0.2133 - acc: 0.4417     \n",
      "Epoch 17/20\n",
      "8680/8680 [==============================] - 0s - loss: 0.2124 - acc: 0.4415     \n",
      "Epoch 18/20\n",
      "8680/8680 [==============================] - 0s - loss: 0.2123 - acc: 0.4461     \n",
      "Epoch 19/20\n",
      "8680/8680 [==============================] - 0s - loss: 0.2125 - acc: 0.4464     \n",
      "Epoch 20/20\n",
      "8680/8680 [==============================] - 0s - loss: 0.2126 - acc: 0.4382     \n",
      "testing set evaluation\n",
      "1856/2171 [========================>.....] - ETA: 0s"
     ]
    },
    {
     "data": {
      "text/plain": [
       "[0.21305623510530719, 0.42238599708529456]"
      ]
     },
     "execution_count": 24,
     "metadata": {},
     "output_type": "execute_result"
    }
   ],
   "source": [
    "# do train test split\n",
    "X_train, X_test, yc_train, yc_test, ye_train, ye_test, le = trainTestCategorical(X, y)\n",
    "\n",
    "# fit and evaluate ANN model\n",
    "model = createFitANN(X_train, yc_train)\n",
    "print 'testing set evaluation'\n",
    "model.evaluate(X_test, yc_test)"
   ]
  },
  {
   "cell_type": "code",
   "execution_count": 25,
   "metadata": {
    "collapsed": false
   },
   "outputs": [
    {
     "name": "stdout",
     "output_type": "stream",
     "text": [
      "confusion matrix \n",
      "[[276 330 159]\n",
      " [288 522  71]\n",
      " [184 112 229]]\n",
      "classification report \n",
      "             precision    recall  f1-score   support\n",
      "\n",
      "          0       0.37      0.36      0.36       765\n",
      "          1       0.54      0.59      0.57       881\n",
      "          2       0.50      0.44      0.47       525\n",
      "\n",
      "avg / total       0.47      0.47      0.47      2171\n",
      "\n",
      "accuracy score \n",
      "0.473053892216\n"
     ]
    }
   ],
   "source": [
    "# compare with Random Forest model\n",
    "fitEvalRFClassifier(X_train, X_test, ye_train, ye_test)"
   ]
  },
  {
   "cell_type": "markdown",
   "metadata": {},
   "source": [
    "# ANN and RF for predicting whether or not person has children"
   ]
  },
  {
   "cell_type": "code",
   "execution_count": 27,
   "metadata": {
    "collapsed": false
   },
   "outputs": [
    {
     "data": {
      "text/plain": [
       "0.0    0.272233\n",
       "1.0    0.154917\n",
       "2.0    0.263662\n",
       "3.0    0.160630\n",
       "4.0    0.080546\n",
       "5.0    0.033545\n",
       "6.0    0.016865\n",
       "7.0    0.007926\n",
       "8.0    0.009677\n",
       "Name: childs, dtype: float64"
      ]
     },
     "execution_count": 27,
     "metadata": {},
     "output_type": "execute_result"
    }
   ],
   "source": [
    "# set target and columns to exclude\n",
    "target = 'childs'\n",
    "exclude_cols = ['hompop','babies','preteen','teens']\n",
    "exclude_cols.append(target)\n",
    "\n",
    "# X, y\n",
    "y = data[target] >0\n",
    "X = pd.get_dummies(data.drop(exclude_cols, axis=1), drop_first=True)\n",
    "\n",
    "# check the ratio of target values: determine threshold for beating guessing\n",
    "(data[target].value_counts()/data[target].count()).sort_index()"
   ]
  },
  {
   "cell_type": "code",
   "execution_count": 28,
   "metadata": {
    "collapsed": false
   },
   "outputs": [
    {
     "name": "stdout",
     "output_type": "stream",
     "text": [
      "Epoch 1/20\n",
      "8680/8680 [==============================] - 0s - loss: 0.2280 - acc: 0.6766     \n",
      "Epoch 2/20\n",
      "8680/8680 [==============================] - 0s - loss: 0.1882 - acc: 0.7293     \n",
      "Epoch 3/20\n",
      "8680/8680 [==============================] - 0s - loss: 0.1800 - acc: 0.7459     \n",
      "Epoch 4/20\n",
      "8680/8680 [==============================] - 0s - loss: 0.1783 - acc: 0.7561     \n",
      "Epoch 5/20\n",
      "8680/8680 [==============================] - 0s - loss: 0.1746 - acc: 0.7632     \n",
      "Epoch 6/20\n",
      "8680/8680 [==============================] - 0s - loss: 0.1708 - acc: 0.7680     \n",
      "Epoch 7/20\n",
      "8680/8680 [==============================] - 0s - loss: 0.1696 - acc: 0.7740     \n",
      "Epoch 8/20\n",
      "8680/8680 [==============================] - 0s - loss: 0.1675 - acc: 0.7756     \n",
      "Epoch 9/20\n",
      "8680/8680 [==============================] - 0s - loss: 0.1669 - acc: 0.7775     \n",
      "Epoch 10/20\n",
      "8680/8680 [==============================] - 0s - loss: 0.1658 - acc: 0.7810     \n",
      "Epoch 11/20\n",
      "8680/8680 [==============================] - 0s - loss: 0.1653 - acc: 0.7801     \n",
      "Epoch 12/20\n",
      "8680/8680 [==============================] - 0s - loss: 0.1648 - acc: 0.7829     \n",
      "Epoch 13/20\n",
      "8680/8680 [==============================] - 0s - loss: 0.1647 - acc: 0.7855     \n",
      "Epoch 14/20\n",
      "8680/8680 [==============================] - 0s - loss: 0.1632 - acc: 0.7857     \n",
      "Epoch 15/20\n",
      "8680/8680 [==============================] - 0s - loss: 0.1618 - acc: 0.7876     \n",
      "Epoch 16/20\n",
      "8680/8680 [==============================] - 0s - loss: 0.1621 - acc: 0.7856     \n",
      "Epoch 17/20\n",
      "8680/8680 [==============================] - 0s - loss: 0.1621 - acc: 0.7859     \n",
      "Epoch 18/20\n",
      "8680/8680 [==============================] - 0s - loss: 0.1621 - acc: 0.7907     \n",
      "Epoch 19/20\n",
      "8680/8680 [==============================] - 0s - loss: 0.1598 - acc: 0.7888     \n",
      "Epoch 20/20\n",
      "8680/8680 [==============================] - 0s - loss: 0.1580 - acc: 0.7922     \n",
      "testing set evaluation\n",
      "1888/2171 [=========================>....] - ETA: 0s"
     ]
    },
    {
     "data": {
      "text/plain": [
       "[0.1567740733312715, 0.78857669246630535]"
      ]
     },
     "execution_count": 28,
     "metadata": {},
     "output_type": "execute_result"
    }
   ],
   "source": [
    "# do train test split\n",
    "X_train, X_test, yc_train, yc_test, ye_train, ye_test, le = trainTestCategorical(X, y)\n",
    "\n",
    "# fit and evaluate ANN model\n",
    "model = createFitANN(X_train, yc_train)\n",
    "print 'testing set evaluation'\n",
    "model.evaluate(X_test, yc_test)"
   ]
  },
  {
   "cell_type": "code",
   "execution_count": 29,
   "metadata": {
    "collapsed": false
   },
   "outputs": [
    {
     "name": "stdout",
     "output_type": "stream",
     "text": [
      "confusion matrix \n",
      "[[ 355  236]\n",
      " [ 148 1432]]\n",
      "classification report \n",
      "             precision    recall  f1-score   support\n",
      "\n",
      "          0       0.71      0.60      0.65       591\n",
      "          1       0.86      0.91      0.88      1580\n",
      "\n",
      "avg / total       0.82      0.82      0.82      2171\n",
      "\n",
      "accuracy score \n",
      "0.8231229848\n"
     ]
    }
   ],
   "source": [
    "# compare with Random Forest model\n",
    "fitEvalRFClassifier(X_train, X_test, ye_train, ye_test)"
   ]
  }
 ],
 "metadata": {
  "kernelspec": {
   "display_name": "Python 2",
   "language": "python",
   "name": "python2"
  },
  "language_info": {
   "codemirror_mode": {
    "name": "ipython",
    "version": 2
   },
   "file_extension": ".py",
   "mimetype": "text/x-python",
   "name": "python",
   "nbconvert_exporter": "python",
   "pygments_lexer": "ipython2",
   "version": "2.7.11"
  }
 },
 "nbformat": 4,
 "nbformat_minor": 0
}
