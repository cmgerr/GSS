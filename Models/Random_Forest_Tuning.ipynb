{
 "cells": [
  {
   "cell_type": "code",
   "execution_count": 46,
   "metadata": {
    "collapsed": true
   },
   "outputs": [],
   "source": [
    "# imports\n",
    "import pandas as pd\n",
    "import numpy as np\n",
    "import seaborn as sns\n",
    "import matplotlib.pyplot as plt\n",
    "%matplotlib inline\n",
    "from sklearn.preprocessing import LabelEncoder\n",
    "from sklearn.cross_validation import train_test_split\n",
    "from sklearn.ensemble import RandomForestClassifier\n",
    "from sklearn.metrics import classification_report, confusion_matrix, accuracy_score\n",
    "from sklearn.grid_search import GridSearchCV\n",
    "\n",
    "# set random state to use throughout\n",
    "rs = 25"
   ]
  },
  {
   "cell_type": "code",
   "execution_count": 2,
   "metadata": {
    "collapsed": false
   },
   "outputs": [],
   "source": [
    "# import data and format it\n",
    "data = pd.read_csv('../Data/gss_subset_cleaned.csv')\n",
    "data = data[data['year']> 2005]\n",
    "# drop highly correlated columns and unusable columns identified in earlier analysis\n",
    "data.drop(['paeduc', 'maeduc', 'speduc', 'income', 'satjob', 'goodlife', \n",
    "           'health', 'year', 'hompop', 'earnrs'], axis=1, inplace=True)\n",
    "# drop less important features from first run-through of RF\n",
    "data.drop(['babies', 'preteen', 'teens', 'divorce', 'dwelling', 'sex'], axis=1, inplace=True)\n",
    "# drop features that are non-demographic (ie would need to be collected in interview)\n",
    "data.drop(['satfin', 'weekswrk', 'polviews'], axis=1, inplace=True)\n",
    "data.dropna(inplace=True)"
   ]
  },
  {
   "cell_type": "code",
   "execution_count": 3,
   "metadata": {
    "collapsed": false
   },
   "outputs": [],
   "source": [
    "# set X and y\n",
    "X = pd.get_dummies(data.drop('happy', axis=1), drop_first=True)\n",
    "y = data['happy'] > 1"
   ]
  },
  {
   "cell_type": "code",
   "execution_count": 4,
   "metadata": {
    "collapsed": false
   },
   "outputs": [
    {
     "data": {
      "text/plain": [
       "True     0.85787\n",
       "False    0.14213\n",
       "Name: happy, dtype: float64"
      ]
     },
     "execution_count": 4,
     "metadata": {},
     "output_type": "execute_result"
    }
   ],
   "source": [
    "# look at % in each class\n",
    "y.value_counts()/y.count()"
   ]
  },
  {
   "cell_type": "code",
   "execution_count": 5,
   "metadata": {
    "collapsed": true
   },
   "outputs": [],
   "source": [
    "# do train_test split\n",
    "X_train, X_test, y_train, y_test = train_test_split(X.as_matrix(), y.as_matrix(),\n",
    "        stratify = y, test_size=0.2, random_state=rs)"
   ]
  },
  {
   "cell_type": "code",
   "execution_count": 6,
   "metadata": {
    "collapsed": true
   },
   "outputs": [],
   "source": [
    "# instantiate Random Forest\n",
    "rf = RandomForestClassifier(random_state=rs, n_jobs=-1)"
   ]
  },
  {
   "cell_type": "code",
   "execution_count": 7,
   "metadata": {
    "collapsed": false
   },
   "outputs": [],
   "source": [
    "# define param grid for gridsearch\n",
    "param_grid = {\n",
    "    'criterion': ['gini', 'entropy'],\n",
    "    'max_depth': [12,15,18],\n",
    "    'n_estimators': [12,15,18],\n",
    "    'min_samples_split': [40,50,60],\n",
    "    'min_samples_leaf': [5,10,20],\n",
    "    'max_features': [5,10,'auto']\n",
    "}"
   ]
  },
  {
   "cell_type": "code",
   "execution_count": 8,
   "metadata": {
    "collapsed": true
   },
   "outputs": [],
   "source": [
    "# instantiate gridsearch for random forest\n",
    "gsrf = GridSearchCV(rf, param_grid, n_jobs=-1)"
   ]
  },
  {
   "cell_type": "code",
   "execution_count": 9,
   "metadata": {
    "collapsed": false
   },
   "outputs": [
    {
     "data": {
      "text/plain": [
       "GridSearchCV(cv=None, error_score='raise',\n",
       "       estimator=RandomForestClassifier(bootstrap=True, class_weight=None, criterion='gini',\n",
       "            max_depth=None, max_features='auto', max_leaf_nodes=None,\n",
       "            min_samples_leaf=1, min_samples_split=2,\n",
       "            min_weight_fraction_leaf=0.0, n_estimators=10, n_jobs=-1,\n",
       "            oob_score=False, random_state=25, verbose=0, warm_start=False),\n",
       "       fit_params={}, iid=True, n_jobs=-1,\n",
       "       param_grid={'min_samples_leaf': [5, 10, 20], 'n_estimators': [12, 15, 18], 'max_features': [5, 10, 'auto'], 'criterion': ['gini', 'entropy'], 'min_samples_split': [40, 50, 60], 'max_depth': [12, 15, 18]},\n",
       "       pre_dispatch='2*n_jobs', refit=True, scoring=None, verbose=0)"
      ]
     },
     "execution_count": 9,
     "metadata": {},
     "output_type": "execute_result"
    }
   ],
   "source": [
    "gsrf.fit(X_train, y_train)"
   ]
  },
  {
   "cell_type": "code",
   "execution_count": 10,
   "metadata": {
    "collapsed": false
   },
   "outputs": [
    {
     "data": {
      "text/plain": [
       "RandomForestClassifier(bootstrap=True, class_weight=None, criterion='gini',\n",
       "            max_depth=18, max_features=5, max_leaf_nodes=None,\n",
       "            min_samples_leaf=20, min_samples_split=40,\n",
       "            min_weight_fraction_leaf=0.0, n_estimators=12, n_jobs=-1,\n",
       "            oob_score=False, random_state=25, verbose=0, warm_start=False)"
      ]
     },
     "execution_count": 10,
     "metadata": {},
     "output_type": "execute_result"
    }
   ],
   "source": [
    "gsrf.best_estimator_"
   ]
  },
  {
   "cell_type": "code",
   "execution_count": 11,
   "metadata": {
    "collapsed": false
   },
   "outputs": [
    {
     "data": {
      "text/plain": [
       "0.85701754385964912"
      ]
     },
     "execution_count": 11,
     "metadata": {},
     "output_type": "execute_result"
    }
   ],
   "source": [
    "gsrf.score(X_test, y_test)"
   ]
  },
  {
   "cell_type": "code",
   "execution_count": 12,
   "metadata": {
    "collapsed": false
   },
   "outputs": [],
   "source": [
    "gsrf_proba = gsrf.predict_proba(X_test)\n",
    "gsrf_pred = gsrf_proba[:,1] > 0.85"
   ]
  },
  {
   "cell_type": "code",
   "execution_count": 13,
   "metadata": {
    "collapsed": false
   },
   "outputs": [
    {
     "name": "stdout",
     "output_type": "stream",
     "text": [
      "             precision    recall  f1-score   support\n",
      "\n",
      "      False       0.22      0.63      0.33       324\n",
      "       True       0.91      0.63      0.75      1956\n",
      "\n",
      "avg / total       0.81      0.63      0.69      2280\n",
      "\n",
      "[[ 203  121]\n",
      " [ 721 1235]]\n"
     ]
    }
   ],
   "source": [
    "print classification_report(y_test, gsrf_pred)\n",
    "print confusion_matrix(y_test, gsrf_pred)"
   ]
  },
  {
   "cell_type": "code",
   "execution_count": 14,
   "metadata": {
    "collapsed": false
   },
   "outputs": [],
   "source": [
    "features = X.columns\n",
    "importances = gsrf.best_estimator_.feature_importances_\n",
    "feat_importances = pd.DataFrame(index=features, columns = ['importance'])\n",
    "feat_importances['importance'] = importances"
   ]
  },
  {
   "cell_type": "code",
   "execution_count": 15,
   "metadata": {
    "collapsed": false
   },
   "outputs": [
    {
     "data": {
      "text/html": [
       "<div>\n",
       "<table border=\"1\" class=\"dataframe\">\n",
       "  <thead>\n",
       "    <tr style=\"text-align: right;\">\n",
       "      <th></th>\n",
       "      <th>importance</th>\n",
       "    </tr>\n",
       "  </thead>\n",
       "  <tbody>\n",
       "    <tr>\n",
       "      <th>educ</th>\n",
       "      <td>0.202975</td>\n",
       "    </tr>\n",
       "    <tr>\n",
       "      <th>age</th>\n",
       "      <td>0.184281</td>\n",
       "    </tr>\n",
       "    <tr>\n",
       "      <th>marital_married</th>\n",
       "      <td>0.166036</td>\n",
       "    </tr>\n",
       "    <tr>\n",
       "      <th>sibs</th>\n",
       "      <td>0.117871</td>\n",
       "    </tr>\n",
       "    <tr>\n",
       "      <th>dwelown_owns</th>\n",
       "      <td>0.068964</td>\n",
       "    </tr>\n",
       "    <tr>\n",
       "      <th>childs</th>\n",
       "      <td>0.065303</td>\n",
       "    </tr>\n",
       "    <tr>\n",
       "      <th>dwelown_rents</th>\n",
       "      <td>0.046786</td>\n",
       "    </tr>\n",
       "    <tr>\n",
       "      <th>adults</th>\n",
       "      <td>0.040655</td>\n",
       "    </tr>\n",
       "    <tr>\n",
       "      <th>hhrace_black</th>\n",
       "      <td>0.026539</td>\n",
       "    </tr>\n",
       "    <tr>\n",
       "      <th>marital_never_married</th>\n",
       "      <td>0.026528</td>\n",
       "    </tr>\n",
       "    <tr>\n",
       "      <th>hhrace_white</th>\n",
       "      <td>0.021471</td>\n",
       "    </tr>\n",
       "    <tr>\n",
       "      <th>marital_separated</th>\n",
       "      <td>0.017912</td>\n",
       "    </tr>\n",
       "    <tr>\n",
       "      <th>marital_widowed</th>\n",
       "      <td>0.008370</td>\n",
       "    </tr>\n",
       "    <tr>\n",
       "      <th>hhrace_other/mixed</th>\n",
       "      <td>0.005771</td>\n",
       "    </tr>\n",
       "    <tr>\n",
       "      <th>hhrace_asian</th>\n",
       "      <td>0.000538</td>\n",
       "    </tr>\n",
       "  </tbody>\n",
       "</table>\n",
       "</div>"
      ],
      "text/plain": [
       "                       importance\n",
       "educ                     0.202975\n",
       "age                      0.184281\n",
       "marital_married          0.166036\n",
       "sibs                     0.117871\n",
       "dwelown_owns             0.068964\n",
       "childs                   0.065303\n",
       "dwelown_rents            0.046786\n",
       "adults                   0.040655\n",
       "hhrace_black             0.026539\n",
       "marital_never_married    0.026528\n",
       "hhrace_white             0.021471\n",
       "marital_separated        0.017912\n",
       "marital_widowed          0.008370\n",
       "hhrace_other/mixed       0.005771\n",
       "hhrace_asian             0.000538"
      ]
     },
     "execution_count": 15,
     "metadata": {},
     "output_type": "execute_result"
    }
   ],
   "source": [
    "feat_importances.sort_values(by='importance', ascending = False)"
   ]
  },
  {
   "cell_type": "code",
   "execution_count": 38,
   "metadata": {
    "collapsed": false
   },
   "outputs": [],
   "source": [
    "modelprobs = pd.DataFrame()\n",
    "modelprobs['Model_Prob_Happy'] = gsrf_proba[:,1]\n",
    "modelprobs['Unhappy_True'] = y_test == False\n",
    "modelprobs.sort_values(by='Model_Prob_Happy', axis=0, inplace=True)"
   ]
  },
  {
   "cell_type": "code",
   "execution_count": 39,
   "metadata": {
    "collapsed": false
   },
   "outputs": [
    {
     "data": {
      "text/html": [
       "<div>\n",
       "<table border=\"1\" class=\"dataframe\">\n",
       "  <thead>\n",
       "    <tr style=\"text-align: right;\">\n",
       "      <th></th>\n",
       "      <th>Model_Prob_Happy</th>\n",
       "      <th>Unhappy_True</th>\n",
       "    </tr>\n",
       "  </thead>\n",
       "  <tbody>\n",
       "    <tr>\n",
       "      <th>1251</th>\n",
       "      <td>0.462552</td>\n",
       "      <td>True</td>\n",
       "    </tr>\n",
       "    <tr>\n",
       "      <th>1529</th>\n",
       "      <td>0.469831</td>\n",
       "      <td>False</td>\n",
       "    </tr>\n",
       "    <tr>\n",
       "      <th>1966</th>\n",
       "      <td>0.480090</td>\n",
       "      <td>False</td>\n",
       "    </tr>\n",
       "    <tr>\n",
       "      <th>2210</th>\n",
       "      <td>0.483177</td>\n",
       "      <td>False</td>\n",
       "    </tr>\n",
       "    <tr>\n",
       "      <th>1061</th>\n",
       "      <td>0.487440</td>\n",
       "      <td>False</td>\n",
       "    </tr>\n",
       "  </tbody>\n",
       "</table>\n",
       "</div>"
      ],
      "text/plain": [
       "      Model_Prob_Happy Unhappy_True\n",
       "1251          0.462552         True\n",
       "1529          0.469831        False\n",
       "1966          0.480090        False\n",
       "2210          0.483177        False\n",
       "1061          0.487440        False"
      ]
     },
     "execution_count": 39,
     "metadata": {},
     "output_type": "execute_result"
    }
   ],
   "source": [
    "modelprobs.head()"
   ]
  },
  {
   "cell_type": "code",
   "execution_count": 47,
   "metadata": {
    "collapsed": true
   },
   "outputs": [],
   "source": [
    "modelprobs['portion_unhappy_captured'] = np.cumsum(modelprobs['Unhappy_True'])/np.sum(modelprobs['Unhappy_True'])\n",
    "modelprobs['portion_happy_mislabeled'] = np.cumsum(1-modelprobs['Unhappy_True'])/np.sum(1-modelprobs['Unhappy_True'])"
   ]
  },
  {
   "cell_type": "code",
   "execution_count": 49,
   "metadata": {
    "collapsed": false
   },
   "outputs": [
    {
     "data": {
      "text/plain": [
       "[<matplotlib.lines.Line2D at 0x11b309110>,\n",
       " <matplotlib.lines.Line2D at 0x11b3092d0>]"
      ]
     },
     "execution_count": 49,
     "metadata": {},
     "output_type": "execute_result"
    },
    {
     "data": {
      "image/png": "[encoded data removed]",
      "text/plain": [
       "<matplotlib.figure.Figure at 0x11aa72390>"
      ]
     },
     "metadata": {},
     "output_type": "display_data"
    }
   ],
   "source": [
    "x = modelprobs['Model_Prob_Happy']\n",
    "y1 = modelprobs['portion_unhappy_captured']\n",
    "y2 = modelprobs['portion_happy_mislabeled']\n",
    "plt.plot(x, y1, 'b--', x, y2, 'r--')"
   ]
  },
  {
   "cell_type": "code",
   "execution_count": null,
   "metadata": {
    "collapsed": true
   },
   "outputs": [],
   "source": []
  }
 ],
 "metadata": {
  "kernelspec": {
   "display_name": "Python 2",
   "language": "python",
   "name": "python2"
  },
  "language_info": {
   "codemirror_mode": {
    "name": "ipython",
    "version": 2
   },
   "file_extension": ".py",
   "mimetype": "text/x-python",
   "name": "python",
   "nbconvert_exporter": "python",
   "pygments_lexer": "ipython2",
   "version": "2.7.11"
  }
 },
 "nbformat": 4,
 "nbformat_minor": 0
}
