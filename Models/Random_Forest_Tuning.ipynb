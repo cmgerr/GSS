{
 "cells": [
  {
   "cell_type": "code",
   "execution_count": 1,
   "metadata": {
    "collapsed": true
   },
   "outputs": [],
   "source": [
    "# imports\n",
    "import pandas as pd\n",
    "import numpy as np\n",
    "import seaborn as sns\n",
    "import matplotlib.pyplot as plt\n",
    "%matplotlib inline\n",
    "from sklearn.preprocessing import LabelEncoder\n",
    "from sklearn.cross_validation import train_test_split\n",
    "from sklearn.ensemble import RandomForestClassifier\n",
    "from sklearn.metrics import classification_report, confusion_matrix, accuracy_score\n",
    "from sklearn.grid_search import GridSearchCV\n",
    "\n",
    "# set random state to use throughout\n",
    "rs = 25"
   ]
  },
  {
   "cell_type": "code",
   "execution_count": 2,
   "metadata": {
    "collapsed": false
   },
   "outputs": [],
   "source": [
    "# import data and format it\n",
    "data = pd.read_csv('../Data/gss_subset_cleaned.csv')\n",
    "data = data[data['year']> 2005]\n",
    "# drop highly correlated columns and unusable columns identified in earlier analysis\n",
    "data.drop(['paeduc', 'maeduc', 'speduc', 'income', 'satjob', 'goodlife', \n",
    "           'health', 'year', 'hompop', 'earnrs'], axis=1, inplace=True)\n",
    "# drop less important features from first run-through of RF\n",
    "data.drop(['babies', 'preteen', 'teens', 'divorce', 'dwelling', 'sex'], axis=1, inplace=True)\n",
    "# drop NA\n",
    "data.dropna(inplace=True)"
   ]
  },
  {
   "cell_type": "code",
   "execution_count": 3,
   "metadata": {
    "collapsed": false
   },
   "outputs": [],
   "source": [
    "# set X and y\n",
    "X = pd.get_dummies(data.drop('happy', axis=1), drop_first=True)\n",
    "y = data['happy'] == 1 # y is \"true\" when individual is unhappy"
   ]
  },
  {
   "cell_type": "code",
   "execution_count": 4,
   "metadata": {
    "collapsed": false
   },
   "outputs": [
    {
     "data": {
      "text/plain": [
       "False    0.861537\n",
       "True     0.138463\n",
       "Name: happy, dtype: float64"
      ]
     },
     "execution_count": 4,
     "metadata": {},
     "output_type": "execute_result"
    }
   ],
   "source": [
    "# look at % in each class\n",
    "y.value_counts()/y.count()"
   ]
  },
  {
   "cell_type": "code",
   "execution_count": 5,
   "metadata": {
    "collapsed": false
   },
   "outputs": [],
   "source": [
    "# do train_test split\n",
    "X1_train, X1_test, y_train, y_test = train_test_split(X, y,\n",
    "        stratify = y, test_size=0.2, random_state=rs)"
   ]
  },
  {
   "cell_type": "code",
   "execution_count": 6,
   "metadata": {
    "collapsed": true
   },
   "outputs": [],
   "source": [
    "# instantiate Random Forest\n",
    "rf = RandomForestClassifier(random_state=rs, n_jobs=-1)"
   ]
  },
  {
   "cell_type": "code",
   "execution_count": 8,
   "metadata": {
    "collapsed": false
   },
   "outputs": [],
   "source": [
    "# define param grid for gridsearch\n",
    "param_grid = {\n",
    "    'criterion': ['gini', 'entropy'],\n",
    "    'max_depth': [15,18,21],\n",
    "    'n_estimators': [15,18],\n",
    "    'min_samples_split': [30,40,50],\n",
    "    'min_samples_leaf': [5,10,20],\n",
    "    'max_features': [5,10,'auto']\n",
    "}"
   ]
  },
  {
   "cell_type": "code",
   "execution_count": 9,
   "metadata": {
    "collapsed": true
   },
   "outputs": [],
   "source": [
    "# instantiate gridsearch for random forest\n",
    "gsrf = GridSearchCV(rf, param_grid, n_jobs=-1, scoring = 'roc_auc')"
   ]
  },
  {
   "cell_type": "markdown",
   "metadata": {},
   "source": [
    "## Run and Evaluate Model on Fuller Training Set (including subjective features that would need to be assessed in interview)"
   ]
  },
  {
   "cell_type": "code",
   "execution_count": 10,
   "metadata": {
    "collapsed": false
   },
   "outputs": [
    {
     "name": "stdout",
     "output_type": "stream",
     "text": [
      "RandomForestClassifier(bootstrap=True, class_weight=None, criterion='gini',\n",
      "            max_depth=18, max_features='auto', max_leaf_nodes=None,\n",
      "            min_samples_leaf=20, min_samples_split=50,\n",
      "            min_weight_fraction_leaf=0.0, n_estimators=15, n_jobs=-1,\n",
      "            oob_score=False, random_state=25, verbose=0, warm_start=False)\n",
      "0.760678234607\n"
     ]
    },
    {
     "name": "stderr",
     "output_type": "stream",
     "text": [
      "/Users/caitlingerrity/anaconda/lib/python2.7/site-packages/sklearn/grid_search.py:418: ChangedBehaviorWarning: The long-standing behavior to use the estimator's score function in GridSearchCV.score has changed. The scoring parameter is now used.\n",
      "  ChangedBehaviorWarning)\n"
     ]
    }
   ],
   "source": [
    "# fit GS RF on training data, print best estimator and out-of-sample score\n",
    "gsrf.fit(X1_train, y_train)\n",
    "print gsrf.best_estimator_\n",
    "print gsrf.score(X1_test, y_test)"
   ]
  },
  {
   "cell_type": "code",
   "execution_count": 11,
   "metadata": {
    "collapsed": false
   },
   "outputs": [
    {
     "name": "stdout",
     "output_type": "stream",
     "text": [
      "             precision    recall  f1-score   support\n",
      "\n",
      "      False       0.93      0.66      0.78      1877\n",
      "       True       0.25      0.71      0.37       302\n",
      "\n",
      "avg / total       0.84      0.67      0.72      2179\n",
      "\n",
      "[[1245  632]\n",
      " [  88  214]]\n"
     ]
    }
   ],
   "source": [
    "# Calculate prediction probabilities, use threshold of 15% to classify as unhappy\n",
    "gsrf_proba1 = gsrf.predict_proba(X1_test)\n",
    "gsrf_pred1 = gsrf_proba1[:,1] > 0.15\n",
    "print classification_report(y_test, gsrf_pred1)\n",
    "print confusion_matrix(y_test, gsrf_pred1)"
   ]
  },
  {
   "cell_type": "code",
   "execution_count": 12,
   "metadata": {
    "collapsed": false
   },
   "outputs": [
    {
     "data": {
      "text/html": [
       "<div>\n",
       "<table border=\"1\" class=\"dataframe\">\n",
       "  <thead>\n",
       "    <tr style=\"text-align: right;\">\n",
       "      <th></th>\n",
       "      <th>importance</th>\n",
       "    </tr>\n",
       "  </thead>\n",
       "  <tbody>\n",
       "    <tr>\n",
       "      <th>satfin</th>\n",
       "      <td>0.274629</td>\n",
       "    </tr>\n",
       "    <tr>\n",
       "      <th>educ</th>\n",
       "      <td>0.107291</td>\n",
       "    </tr>\n",
       "    <tr>\n",
       "      <th>age</th>\n",
       "      <td>0.093875</td>\n",
       "    </tr>\n",
       "    <tr>\n",
       "      <th>weekswrk</th>\n",
       "      <td>0.086070</td>\n",
       "    </tr>\n",
       "    <tr>\n",
       "      <th>marital_married</th>\n",
       "      <td>0.077803</td>\n",
       "    </tr>\n",
       "    <tr>\n",
       "      <th>sibs</th>\n",
       "      <td>0.066227</td>\n",
       "    </tr>\n",
       "    <tr>\n",
       "      <th>dwelown_owns</th>\n",
       "      <td>0.052935</td>\n",
       "    </tr>\n",
       "    <tr>\n",
       "      <th>adults</th>\n",
       "      <td>0.048419</td>\n",
       "    </tr>\n",
       "    <tr>\n",
       "      <th>polviews</th>\n",
       "      <td>0.042918</td>\n",
       "    </tr>\n",
       "    <tr>\n",
       "      <th>childs</th>\n",
       "      <td>0.036023</td>\n",
       "    </tr>\n",
       "    <tr>\n",
       "      <th>marital_separated</th>\n",
       "      <td>0.029111</td>\n",
       "    </tr>\n",
       "    <tr>\n",
       "      <th>dwelown_rents</th>\n",
       "      <td>0.026745</td>\n",
       "    </tr>\n",
       "    <tr>\n",
       "      <th>hhrace_white</th>\n",
       "      <td>0.017936</td>\n",
       "    </tr>\n",
       "    <tr>\n",
       "      <th>marital_never_married</th>\n",
       "      <td>0.015939</td>\n",
       "    </tr>\n",
       "    <tr>\n",
       "      <th>hhrace_black</th>\n",
       "      <td>0.012190</td>\n",
       "    </tr>\n",
       "    <tr>\n",
       "      <th>marital_widowed</th>\n",
       "      <td>0.005770</td>\n",
       "    </tr>\n",
       "    <tr>\n",
       "      <th>hhrace_other/mixed</th>\n",
       "      <td>0.005749</td>\n",
       "    </tr>\n",
       "    <tr>\n",
       "      <th>dwelown_other</th>\n",
       "      <td>0.000362</td>\n",
       "    </tr>\n",
       "    <tr>\n",
       "      <th>hhrace_asian</th>\n",
       "      <td>0.000010</td>\n",
       "    </tr>\n",
       "  </tbody>\n",
       "</table>\n",
       "</div>"
      ],
      "text/plain": [
       "                       importance\n",
       "satfin                   0.274629\n",
       "educ                     0.107291\n",
       "age                      0.093875\n",
       "weekswrk                 0.086070\n",
       "marital_married          0.077803\n",
       "sibs                     0.066227\n",
       "dwelown_owns             0.052935\n",
       "adults                   0.048419\n",
       "polviews                 0.042918\n",
       "childs                   0.036023\n",
       "marital_separated        0.029111\n",
       "dwelown_rents            0.026745\n",
       "hhrace_white             0.017936\n",
       "marital_never_married    0.015939\n",
       "hhrace_black             0.012190\n",
       "marital_widowed          0.005770\n",
       "hhrace_other/mixed       0.005749\n",
       "dwelown_other            0.000362\n",
       "hhrace_asian             0.000010"
      ]
     },
     "execution_count": 12,
     "metadata": {},
     "output_type": "execute_result"
    }
   ],
   "source": [
    "# look at relative importance of different features\n",
    "features = X1_train.columns\n",
    "importances = gsrf.best_estimator_.feature_importances_\n",
    "feat_importances = pd.DataFrame(index=features, columns = ['importance'])\n",
    "feat_importances['importance'] = importances\n",
    "feat_importances.sort_values(by='importance', ascending = False)"
   ]
  },
  {
   "cell_type": "markdown",
   "metadata": {},
   "source": [
    "## Run and Evaluate Model on More Realistic Training Set (including only demographic/biographic information)"
   ]
  },
  {
   "cell_type": "code",
   "execution_count": 13,
   "metadata": {
    "collapsed": false
   },
   "outputs": [
    {
     "name": "stdout",
     "output_type": "stream",
     "text": [
      "RandomForestClassifier(bootstrap=True, class_weight=None, criterion='gini',\n",
      "            max_depth=15, max_features='auto', max_leaf_nodes=None,\n",
      "            min_samples_leaf=20, min_samples_split=50,\n",
      "            min_weight_fraction_leaf=0.0, n_estimators=18, n_jobs=-1,\n",
      "            oob_score=False, random_state=25, verbose=0, warm_start=False)\n",
      "0.710488944243\n"
     ]
    }
   ],
   "source": [
    "# drop subjective features\n",
    "X2_train = X1_train.drop(['satfin', 'weekswrk', 'polviews'], axis=1)\n",
    "X2_test = X1_test.drop(['satfin', 'weekswrk', 'polviews'], axis=1)\n",
    "\n",
    "# fit GS RF and print best estimator, out-of-sample score\n",
    "gsrf.fit(X2_train, y_train)\n",
    "print gsrf.best_estimator_\n",
    "print gsrf.score(X2_test, y_test)"
   ]
  },
  {
   "cell_type": "code",
   "execution_count": 14,
   "metadata": {
    "collapsed": false
   },
   "outputs": [
    {
     "name": "stdout",
     "output_type": "stream",
     "text": [
      "             precision    recall  f1-score   support\n",
      "\n",
      "      False       0.93      0.66      0.77      1877\n",
      "       True       0.24      0.68      0.36       302\n",
      "\n",
      "avg / total       0.83      0.66      0.71      2179\n",
      "\n",
      "[[1241  636]\n",
      " [  97  205]]\n"
     ]
    }
   ],
   "source": [
    "# Calculate prediction probabilities, use threshold of 15% to classify as unhappy\n",
    "gsrf_proba2 = gsrf.predict_proba(X2_test)\n",
    "gsrf_pred2 = gsrf_proba2[:,1] > 0.15\n",
    "print classification_report(y_test, gsrf_pred2)\n",
    "print confusion_matrix(y_test, gsrf_pred2)"
   ]
  },
  {
   "cell_type": "code",
   "execution_count": 15,
   "metadata": {
    "collapsed": false
   },
   "outputs": [
    {
     "data": {
      "text/html": [
       "<div>\n",
       "<table border=\"1\" class=\"dataframe\">\n",
       "  <thead>\n",
       "    <tr style=\"text-align: right;\">\n",
       "      <th></th>\n",
       "      <th>importance</th>\n",
       "    </tr>\n",
       "  </thead>\n",
       "  <tbody>\n",
       "    <tr>\n",
       "      <th>educ</th>\n",
       "      <td>0.203819</td>\n",
       "    </tr>\n",
       "    <tr>\n",
       "      <th>age</th>\n",
       "      <td>0.170816</td>\n",
       "    </tr>\n",
       "    <tr>\n",
       "      <th>marital_married</th>\n",
       "      <td>0.129139</td>\n",
       "    </tr>\n",
       "    <tr>\n",
       "      <th>sibs</th>\n",
       "      <td>0.103949</td>\n",
       "    </tr>\n",
       "    <tr>\n",
       "      <th>dwelown_owns</th>\n",
       "      <td>0.078555</td>\n",
       "    </tr>\n",
       "    <tr>\n",
       "      <th>adults</th>\n",
       "      <td>0.075287</td>\n",
       "    </tr>\n",
       "    <tr>\n",
       "      <th>childs</th>\n",
       "      <td>0.056447</td>\n",
       "    </tr>\n",
       "    <tr>\n",
       "      <th>marital_separated</th>\n",
       "      <td>0.048854</td>\n",
       "    </tr>\n",
       "    <tr>\n",
       "      <th>dwelown_rents</th>\n",
       "      <td>0.031688</td>\n",
       "    </tr>\n",
       "    <tr>\n",
       "      <th>marital_never_married</th>\n",
       "      <td>0.030360</td>\n",
       "    </tr>\n",
       "    <tr>\n",
       "      <th>hhrace_white</th>\n",
       "      <td>0.030333</td>\n",
       "    </tr>\n",
       "    <tr>\n",
       "      <th>hhrace_black</th>\n",
       "      <td>0.024773</td>\n",
       "    </tr>\n",
       "    <tr>\n",
       "      <th>marital_widowed</th>\n",
       "      <td>0.009134</td>\n",
       "    </tr>\n",
       "    <tr>\n",
       "      <th>hhrace_other/mixed</th>\n",
       "      <td>0.006202</td>\n",
       "    </tr>\n",
       "    <tr>\n",
       "      <th>hhrace_asian</th>\n",
       "      <td>0.000644</td>\n",
       "    </tr>\n",
       "    <tr>\n",
       "      <th>dwelown_other</th>\n",
       "      <td>0.000000</td>\n",
       "    </tr>\n",
       "  </tbody>\n",
       "</table>\n",
       "</div>"
      ],
      "text/plain": [
       "                       importance\n",
       "educ                     0.203819\n",
       "age                      0.170816\n",
       "marital_married          0.129139\n",
       "sibs                     0.103949\n",
       "dwelown_owns             0.078555\n",
       "adults                   0.075287\n",
       "childs                   0.056447\n",
       "marital_separated        0.048854\n",
       "dwelown_rents            0.031688\n",
       "marital_never_married    0.030360\n",
       "hhrace_white             0.030333\n",
       "hhrace_black             0.024773\n",
       "marital_widowed          0.009134\n",
       "hhrace_other/mixed       0.006202\n",
       "hhrace_asian             0.000644\n",
       "dwelown_other            0.000000"
      ]
     },
     "execution_count": 15,
     "metadata": {},
     "output_type": "execute_result"
    }
   ],
   "source": [
    "# look at relative importance of different features\n",
    "features = X2_train.columns\n",
    "importances = gsrf.best_estimator_.feature_importances_\n",
    "feat_importances = pd.DataFrame(index=features, columns = ['importance'])\n",
    "feat_importances['importance'] = importances\n",
    "feat_importances.sort_values(by='importance', ascending = False)"
   ]
  },
  {
   "cell_type": "markdown",
   "metadata": {},
   "source": [
    "## Look at Model Value-Add"
   ]
  },
  {
   "cell_type": "code",
   "execution_count": 16,
   "metadata": {
    "collapsed": false
   },
   "outputs": [],
   "source": [
    "def getPlotValueAdd(probas, y_test):\n",
    "    # create dataframe with the model's predicted P(unhappy) along with boolean for actual unhappiness\n",
    "    modelprobs = pd.DataFrame()\n",
    "    modelprobs['Model_Prob_Unhappy'] = probas[:,1]\n",
    "    modelprobs['Unhappy_True'] = y_test.as_matrix()\n",
    "\n",
    "    # sort by P(Unhappy) and add columns for % Unhappy and % Happy people falling above that threshold\n",
    "    modelprobs.sort_values(by='Model_Prob_Unhappy', axis=0, inplace=True, ascending=False)\n",
    "    modelprobs['portion_unhappy_captured'] = np.cumsum(modelprobs['Unhappy_True'])/np.sum(modelprobs['Unhappy_True'])\n",
    "    modelprobs['portion_happy_mislabeled'] = np.cumsum(1-modelprobs['Unhappy_True'])/np.sum(1-modelprobs['Unhappy_True'])\n",
    "    modelprobs['ratio_correct_prediction'] = np.cumsum(modelprobs['Unhappy_True'])/(np.cumsum(modelprobs['Unhappy_True']) + np.cumsum(1-modelprobs['Unhappy_True']))\n",
    "\n",
    "    # Plot the difference\n",
    "    x = modelprobs['Model_Prob_Unhappy']\n",
    "    y1 = modelprobs['portion_unhappy_captured']\n",
    "    y2 = modelprobs['portion_happy_mislabeled']\n",
    "    y3 = modelprobs['ratio_correct_prediction']\n",
    "    plt.plot(x, y1, 'b--', x, y2, 'r--', x, y3, 'g--')\n",
    "    \n",
    "    # return DF\n",
    "    return modelprobs"
   ]
  },
  {
   "cell_type": "code",
   "execution_count": 17,
   "metadata": {
    "collapsed": false
   },
   "outputs": [
    {
     "data": {
      "image/png": "[encoded data removed]",
      "text/plain": [
       "<matplotlib.figure.Figure at 0x10622dfd0>"
      ]
     },
     "metadata": {},
     "output_type": "display_data"
    }
   ],
   "source": [
    "# look at value add for model with more features\n",
    "modelprobs1 = getPlotValueAdd(gsrf_proba1, y_test)"
   ]
  },
  {
   "cell_type": "code",
   "execution_count": 18,
   "metadata": {
    "collapsed": false
   },
   "outputs": [
    {
     "data": {
      "image/png": "[encoded data removed]",
      "text/plain": [
       "<matplotlib.figure.Figure at 0x119e2e850>"
      ]
     },
     "metadata": {},
     "output_type": "display_data"
    }
   ],
   "source": [
    "# look at value add for 'more realistic' model\n",
    "modelprobs2 = getPlotValueAdd(gsrf_proba2, y_test)"
   ]
  },
  {
   "cell_type": "markdown",
   "metadata": {},
   "source": [
    "## Save Data for Model FPR vs Recall"
   ]
  },
  {
   "cell_type": "code",
   "execution_count": 19,
   "metadata": {
    "collapsed": true
   },
   "outputs": [],
   "source": [
    "melted = pd.melt(modelprobs2, id_vars= ['Model_Prob_Unhappy', 'Unhappy_True'])"
   ]
  },
  {
   "cell_type": "code",
   "execution_count": 20,
   "metadata": {
    "collapsed": true
   },
   "outputs": [],
   "source": [
    "melted.to_csv('../Data/rf_proba_test.csv', index=False, encoding='utf-8')"
   ]
  },
  {
   "cell_type": "code",
   "execution_count": null,
   "metadata": {
    "collapsed": true
   },
   "outputs": [],
   "source": []
  }
 ],
 "metadata": {
  "kernelspec": {
   "display_name": "Python 2",
   "language": "python",
   "name": "python2"
  },
  "language_info": {
   "codemirror_mode": {
    "name": "ipython",
    "version": 2
   },
   "file_extension": ".py",
   "mimetype": "text/x-python",
   "name": "python",
   "nbconvert_exporter": "python",
   "pygments_lexer": "ipython2",
   "version": "2.7.11"
  }
 },
 "nbformat": 4,
 "nbformat_minor": 0
}
