{
 "cells": [
  {
   "cell_type": "code",
   "execution_count": 1,
   "metadata": {
    "collapsed": true
   },
   "outputs": [],
   "source": [
    "# imports\n",
    "import pandas as pd\n",
    "import numpy as np\n",
    "import seaborn as sns\n",
    "import matplotlib.pyplot as plt\n",
    "%matplotlib inline\n",
    "from sklearn.preprocessing import LabelEncoder\n",
    "from sklearn.cross_validation import train_test_split, cross_val_score\n",
    "from sklearn.ensemble import RandomForestClassifier\n",
    "from sklearn.metrics import classification_report, confusion_matrix, accuracy_score\n",
    "from sklearn.grid_search import GridSearchCV\n",
    "from sklearn import metrics\n",
    "from sklearn.linear_model import LogisticRegression \n",
    "\n",
    "# set random state to use throughout\n",
    "rs = 25"
   ]
  },
  {
   "cell_type": "code",
   "execution_count": 2,
   "metadata": {
    "collapsed": false
   },
   "outputs": [
    {
     "name": "stdout",
     "output_type": "stream",
     "text": [
      "<class 'pandas.core.frame.DataFrame'>\n",
      "Int64Index: 13089 entries, 46510 to 59598\n",
      "Data columns (total 11 columns):\n",
      "marital     13073 non-null object\n",
      "sibs        11549 non-null float64\n",
      "childs      13059 non-null float64\n",
      "age         13089 non-null float64\n",
      "educ        13065 non-null float64\n",
      "adults      13054 non-null float64\n",
      "polviews    12562 non-null float64\n",
      "happy       11534 non-null float64\n",
      "weekswrk    11490 non-null float64\n",
      "satfin      11533 non-null float64\n",
      "dwelown     13066 non-null object\n",
      "dtypes: float64(9), object(2)\n",
      "memory usage: 1.2+ MB\n"
     ]
    }
   ],
   "source": [
    "# import data and format it\n",
    "data = pd.read_csv('../Data/gss_subset_cleaned.csv')\n",
    "data = data[data['year']> 2005]\n",
    "# drop highly correlated columns and unusable columns identified in earlier analysis\n",
    "data.drop(['paeduc', 'maeduc', 'speduc', 'income', 'satjob', 'goodlife', \n",
    "           'health', 'year', 'hompop', 'earnrs'], axis=1, inplace=True)\n",
    "# drop less important features from first run-through of RF\n",
    "data.drop(['babies', 'preteen', 'teens', 'divorce', 'dwelling', 'sex', 'hhrace'], axis=1, inplace=True)\n",
    "\n",
    "# check NA values\n",
    "data.info()"
   ]
  },
  {
   "cell_type": "code",
   "execution_count": 3,
   "metadata": {
    "collapsed": false
   },
   "outputs": [
    {
     "name": "stdout",
     "output_type": "stream",
     "text": [
      "married          6091\n",
      "never_married    3377\n",
      "divorced         2082\n",
      "widowed          1083\n",
      "separated         440\n",
      "Name: marital, dtype: int64\n",
      "other    5485\n",
      "owns     4924\n",
      "rents    2657\n",
      "Name: dwelown, dtype: int64\n"
     ]
    }
   ],
   "source": [
    "print data['marital'].value_counts()\n",
    "print data['dwelown'].value_counts()"
   ]
  },
  {
   "cell_type": "code",
   "execution_count": 4,
   "metadata": {
    "collapsed": false
   },
   "outputs": [
    {
     "name": "stdout",
     "output_type": "stream",
     "text": [
      "<class 'pandas.core.frame.DataFrame'>\n",
      "Int64Index: 11534 entries, 46510 to 59598\n",
      "Data columns (total 11 columns):\n",
      "marital     11534 non-null object\n",
      "sibs        11534 non-null float64\n",
      "childs      11534 non-null float64\n",
      "age         11534 non-null float64\n",
      "educ        11534 non-null float64\n",
      "adults      11534 non-null float64\n",
      "polviews    11534 non-null float64\n",
      "happy       11534 non-null float64\n",
      "weekswrk    11534 non-null float64\n",
      "satfin      11534 non-null float64\n",
      "dwelown     11534 non-null object\n",
      "dtypes: float64(9), object(2)\n",
      "memory usage: 1.1+ MB\n"
     ]
    }
   ],
   "source": [
    "# fill NA with mode for categorical\n",
    "data1 = data.fillna({'marital': 'married', 'dwelown': 'other'})\n",
    "\n",
    "# fill NA with median for numerical\n",
    "data1 = data1.fillna(data1.drop('happy', axis=1).median())\n",
    "\n",
    "# drop NA for happy\n",
    "data1 = data1.dropna(subset=['happy'])\n",
    "\n",
    "# check how many values remain\n",
    "data1.info()"
   ]
  },
  {
   "cell_type": "code",
   "execution_count": 5,
   "metadata": {
    "collapsed": false
   },
   "outputs": [],
   "source": [
    "# set X and y\n",
    "X = pd.get_dummies(data1.drop('happy', axis=1), drop_first=True)\n",
    "y = data1['happy'] == 1 # y is \"true\" when individual is unhappy"
   ]
  },
  {
   "cell_type": "code",
   "execution_count": 6,
   "metadata": {
    "collapsed": false
   },
   "outputs": [
    {
     "data": {
      "text/plain": [
       "False    0.857725\n",
       "True     0.142275\n",
       "Name: happy, dtype: float64"
      ]
     },
     "execution_count": 6,
     "metadata": {},
     "output_type": "execute_result"
    }
   ],
   "source": [
    "# look at % in each class\n",
    "y.value_counts()/y.count()"
   ]
  },
  {
   "cell_type": "code",
   "execution_count": 7,
   "metadata": {
    "collapsed": false
   },
   "outputs": [],
   "source": [
    "# do train_test split\n",
    "X1_train, X1_test, y1_train, y1_test = train_test_split(X, y,\n",
    "        stratify = y, test_size=0.2, random_state=rs)"
   ]
  },
  {
   "cell_type": "code",
   "execution_count": 8,
   "metadata": {
    "collapsed": true
   },
   "outputs": [],
   "source": [
    "# instantiate Random Forest\n",
    "rf = RandomForestClassifier(random_state=rs, n_jobs=-1)"
   ]
  },
  {
   "cell_type": "code",
   "execution_count": 9,
   "metadata": {
    "collapsed": false
   },
   "outputs": [],
   "source": [
    "# define param grid for gridsearch\n",
    "param_grid = {\n",
    "    'criterion': ['gini', 'entropy'],\n",
    "    'max_depth': [15,18,21],\n",
    "    'n_estimators': [15,18],\n",
    "    'min_samples_split': [30,40,50],\n",
    "    'min_samples_leaf': [5,10,20],\n",
    "    'max_features': [5,10,'auto']\n",
    "}"
   ]
  },
  {
   "cell_type": "code",
   "execution_count": 10,
   "metadata": {
    "collapsed": true
   },
   "outputs": [],
   "source": [
    "# instantiate gridsearch for random forest\n",
    "gsrf = GridSearchCV(rf, param_grid, n_jobs=-1, scoring = 'roc_auc')"
   ]
  },
  {
   "cell_type": "markdown",
   "metadata": {},
   "source": [
    "## Run and Evaluate Model on Fuller Training Set (including subjective features that would need to be assessed in interview)"
   ]
  },
  {
   "cell_type": "code",
   "execution_count": 11,
   "metadata": {
    "collapsed": false
   },
   "outputs": [
    {
     "name": "stdout",
     "output_type": "stream",
     "text": [
      "RandomForestClassifier(bootstrap=True, class_weight=None, criterion='gini',\n",
      "            max_depth=15, max_features='auto', max_leaf_nodes=None,\n",
      "            min_samples_leaf=20, min_samples_split=30,\n",
      "            min_weight_fraction_leaf=0.0, n_estimators=18, n_jobs=-1,\n",
      "            oob_score=False, random_state=25, verbose=0, warm_start=False)\n",
      "0.745617289689\n",
      "0.764501349536\n"
     ]
    },
    {
     "name": "stderr",
     "output_type": "stream",
     "text": [
      "/Users/caitlingerrity/anaconda/lib/python2.7/site-packages/sklearn/grid_search.py:418: ChangedBehaviorWarning: The long-standing behavior to use the estimator's score function in GridSearchCV.score has changed. The scoring parameter is now used.\n",
      "  ChangedBehaviorWarning)\n"
     ]
    }
   ],
   "source": [
    "# fit GS RF on training data, print best estimator and out-of-sample score\n",
    "gsrf.fit(X1_train, y1_train)\n",
    "print gsrf.best_estimator_\n",
    "print gsrf.best_score_\n",
    "print gsrf.score(X1_test, y1_test)"
   ]
  },
  {
   "cell_type": "code",
   "execution_count": 12,
   "metadata": {
    "collapsed": false
   },
   "outputs": [
    {
     "name": "stdout",
     "output_type": "stream",
     "text": [
      "             precision    recall  f1-score   support\n",
      "\n",
      "      False       0.93      0.68      0.79      1979\n",
      "       True       0.27      0.71      0.39       328\n",
      "\n",
      "avg / total       0.84      0.69      0.73      2307\n",
      "\n",
      "[[1350  629]\n",
      " [  95  233]]\n"
     ]
    }
   ],
   "source": [
    "# Calculate prediction probabilities, use threshold of 15% to classify as unhappy\n",
    "gsrf_proba1 = gsrf.predict_proba(X1_test)\n",
    "gsrf_pred1 = gsrf_proba1[:,1] > 0.15\n",
    "print classification_report(y1_test, gsrf_pred1)\n",
    "print confusion_matrix(y1_test, gsrf_pred1)"
   ]
  },
  {
   "cell_type": "code",
   "execution_count": 13,
   "metadata": {
    "collapsed": false
   },
   "outputs": [
    {
     "data": {
      "text/html": [
       "<div>\n",
       "<table border=\"1\" class=\"dataframe\">\n",
       "  <thead>\n",
       "    <tr style=\"text-align: right;\">\n",
       "      <th></th>\n",
       "      <th>importance</th>\n",
       "    </tr>\n",
       "  </thead>\n",
       "  <tbody>\n",
       "    <tr>\n",
       "      <th>satfin</th>\n",
       "      <td>0.282</td>\n",
       "    </tr>\n",
       "    <tr>\n",
       "      <th>educ</th>\n",
       "      <td>0.128</td>\n",
       "    </tr>\n",
       "    <tr>\n",
       "      <th>age</th>\n",
       "      <td>0.108</td>\n",
       "    </tr>\n",
       "    <tr>\n",
       "      <th>marital_married</th>\n",
       "      <td>0.084</td>\n",
       "    </tr>\n",
       "    <tr>\n",
       "      <th>weekswrk</th>\n",
       "      <td>0.080</td>\n",
       "    </tr>\n",
       "    <tr>\n",
       "      <th>sibs</th>\n",
       "      <td>0.064</td>\n",
       "    </tr>\n",
       "    <tr>\n",
       "      <th>dwelown_owns</th>\n",
       "      <td>0.049</td>\n",
       "    </tr>\n",
       "    <tr>\n",
       "      <th>polviews</th>\n",
       "      <td>0.049</td>\n",
       "    </tr>\n",
       "    <tr>\n",
       "      <th>adults</th>\n",
       "      <td>0.048</td>\n",
       "    </tr>\n",
       "    <tr>\n",
       "      <th>childs</th>\n",
       "      <td>0.045</td>\n",
       "    </tr>\n",
       "    <tr>\n",
       "      <th>dwelown_rents</th>\n",
       "      <td>0.030</td>\n",
       "    </tr>\n",
       "    <tr>\n",
       "      <th>marital_never_married</th>\n",
       "      <td>0.021</td>\n",
       "    </tr>\n",
       "    <tr>\n",
       "      <th>marital_separated</th>\n",
       "      <td>0.007</td>\n",
       "    </tr>\n",
       "    <tr>\n",
       "      <th>marital_widowed</th>\n",
       "      <td>0.004</td>\n",
       "    </tr>\n",
       "  </tbody>\n",
       "</table>\n",
       "</div>"
      ],
      "text/plain": [
       "                       importance\n",
       "satfin                      0.282\n",
       "educ                        0.128\n",
       "age                         0.108\n",
       "marital_married             0.084\n",
       "weekswrk                    0.080\n",
       "sibs                        0.064\n",
       "dwelown_owns                0.049\n",
       "polviews                    0.049\n",
       "adults                      0.048\n",
       "childs                      0.045\n",
       "dwelown_rents               0.030\n",
       "marital_never_married       0.021\n",
       "marital_separated           0.007\n",
       "marital_widowed             0.004"
      ]
     },
     "execution_count": 13,
     "metadata": {},
     "output_type": "execute_result"
    }
   ],
   "source": [
    "# look at relative importance of different features\n",
    "features = X1_train.columns\n",
    "importances = gsrf.best_estimator_.feature_importances_\n",
    "feat_importances = pd.DataFrame(index=features, columns = ['importance'])\n",
    "feat_importances['importance'] = importances\n",
    "feat_importances.sort_values(by='importance', ascending = False).round(decimals=3)"
   ]
  },
  {
   "cell_type": "markdown",
   "metadata": {},
   "source": [
    "## Run and Evaluate Model on More Realistic Training Set (including only demographic/biographic information)"
   ]
  },
  {
   "cell_type": "code",
   "execution_count": 14,
   "metadata": {
    "collapsed": false
   },
   "outputs": [
    {
     "name": "stdout",
     "output_type": "stream",
     "text": [
      "<class 'pandas.core.frame.DataFrame'>\n",
      "Int64Index: 11534 entries, 46510 to 59598\n",
      "Data columns (total 8 columns):\n",
      "marital    11534 non-null object\n",
      "sibs       11534 non-null float64\n",
      "childs     11534 non-null float64\n",
      "age        11534 non-null float64\n",
      "educ       11534 non-null float64\n",
      "adults     11534 non-null float64\n",
      "happy      11534 non-null float64\n",
      "dwelown    11534 non-null object\n",
      "dtypes: float64(6), object(2)\n",
      "memory usage: 811.0+ KB\n"
     ]
    }
   ],
   "source": [
    "# drop subjective features\n",
    "data2 = data.drop(['satfin', 'weekswrk', 'polviews'],axis=1)\n",
    "\n",
    "# fill NA with mode for categorical\n",
    "data2 = data2.fillna({'marital': 'married', 'dwelown': 'other'})\n",
    "\n",
    "# fill NA with median for numerical\n",
    "data2 = data2.fillna(data1.drop('happy', axis=1).median())\n",
    "\n",
    "# drop NA for happy\n",
    "data2 = data2.dropna(subset=['happy'])\n",
    "\n",
    "# check how many values remain\n",
    "data2.info()"
   ]
  },
  {
   "cell_type": "code",
   "execution_count": 15,
   "metadata": {
    "collapsed": true
   },
   "outputs": [],
   "source": [
    "# save this dataset for use in other models\n",
    "data2.to_csv('../Data/gss_subset_for_modeling.csv', index=False, encoding='utf-8')"
   ]
  },
  {
   "cell_type": "code",
   "execution_count": 16,
   "metadata": {
    "collapsed": false
   },
   "outputs": [],
   "source": [
    "# set X and y\n",
    "X = pd.get_dummies(data2.drop('happy', axis=1), drop_first=True)\n",
    "y = data2['happy'] == 1 # y is \"true\" when individual is unhappy"
   ]
  },
  {
   "cell_type": "code",
   "execution_count": 17,
   "metadata": {
    "collapsed": true
   },
   "outputs": [],
   "source": [
    "# do train_test split\n",
    "X2_train, X2_test, y2_train, y2_test = train_test_split(X, y,\n",
    "        stratify = y, test_size=0.2, random_state=rs)"
   ]
  },
  {
   "cell_type": "code",
   "execution_count": 18,
   "metadata": {
    "collapsed": false
   },
   "outputs": [
    {
     "name": "stdout",
     "output_type": "stream",
     "text": [
      "RandomForestClassifier(bootstrap=True, class_weight=None, criterion='gini',\n",
      "            max_depth=18, max_features='auto', max_leaf_nodes=None,\n",
      "            min_samples_leaf=20, min_samples_split=50,\n",
      "            min_weight_fraction_leaf=0.0, n_estimators=18, n_jobs=-1,\n",
      "            oob_score=False, random_state=25, verbose=0, warm_start=False)\n",
      "0.683633313886\n",
      "0.701330432961\n"
     ]
    }
   ],
   "source": [
    "# fit GS RF and print best estimator, out-of-sample score\n",
    "gsrf.fit(X2_train, y2_train)\n",
    "print gsrf.best_estimator_\n",
    "print gsrf.best_score_\n",
    "print gsrf.score(X2_test, y2_test)"
   ]
  },
  {
   "cell_type": "code",
   "execution_count": 19,
   "metadata": {
    "collapsed": false
   },
   "outputs": [
    {
     "name": "stdout",
     "output_type": "stream",
     "text": [
      "             precision    recall  f1-score   support\n",
      "\n",
      "      False       0.92      0.63      0.75      1979\n",
      "       True       0.23      0.66      0.34       328\n",
      "\n",
      "avg / total       0.82      0.64      0.69      2307\n",
      "\n",
      "[[1251  728]\n",
      " [ 111  217]]\n"
     ]
    }
   ],
   "source": [
    "# Calculate prediction probabilities, use threshold of 15% to classify as unhappy\n",
    "gsrf_proba2 = gsrf.predict_proba(X2_test)\n",
    "gsrf_pred2 = gsrf_proba2[:,1] > 0.15\n",
    "print classification_report(y2_test, gsrf_pred2)\n",
    "print confusion_matrix(y2_test, gsrf_pred2)"
   ]
  },
  {
   "cell_type": "code",
   "execution_count": 20,
   "metadata": {
    "collapsed": false
   },
   "outputs": [
    {
     "data": {
      "text/html": [
       "<div>\n",
       "<table border=\"1\" class=\"dataframe\">\n",
       "  <thead>\n",
       "    <tr style=\"text-align: right;\">\n",
       "      <th></th>\n",
       "      <th>importance</th>\n",
       "    </tr>\n",
       "  </thead>\n",
       "  <tbody>\n",
       "    <tr>\n",
       "      <th>educ</th>\n",
       "      <td>0.225</td>\n",
       "    </tr>\n",
       "    <tr>\n",
       "      <th>age</th>\n",
       "      <td>0.192</td>\n",
       "    </tr>\n",
       "    <tr>\n",
       "      <th>marital_married</th>\n",
       "      <td>0.173</td>\n",
       "    </tr>\n",
       "    <tr>\n",
       "      <th>sibs</th>\n",
       "      <td>0.107</td>\n",
       "    </tr>\n",
       "    <tr>\n",
       "      <th>childs</th>\n",
       "      <td>0.081</td>\n",
       "    </tr>\n",
       "    <tr>\n",
       "      <th>dwelown_owns</th>\n",
       "      <td>0.074</td>\n",
       "    </tr>\n",
       "    <tr>\n",
       "      <th>adults</th>\n",
       "      <td>0.061</td>\n",
       "    </tr>\n",
       "    <tr>\n",
       "      <th>dwelown_rents</th>\n",
       "      <td>0.039</td>\n",
       "    </tr>\n",
       "    <tr>\n",
       "      <th>marital_never_married</th>\n",
       "      <td>0.022</td>\n",
       "    </tr>\n",
       "    <tr>\n",
       "      <th>marital_separated</th>\n",
       "      <td>0.015</td>\n",
       "    </tr>\n",
       "    <tr>\n",
       "      <th>marital_widowed</th>\n",
       "      <td>0.010</td>\n",
       "    </tr>\n",
       "  </tbody>\n",
       "</table>\n",
       "</div>"
      ],
      "text/plain": [
       "                       importance\n",
       "educ                        0.225\n",
       "age                         0.192\n",
       "marital_married             0.173\n",
       "sibs                        0.107\n",
       "childs                      0.081\n",
       "dwelown_owns                0.074\n",
       "adults                      0.061\n",
       "dwelown_rents               0.039\n",
       "marital_never_married       0.022\n",
       "marital_separated           0.015\n",
       "marital_widowed             0.010"
      ]
     },
     "execution_count": 20,
     "metadata": {},
     "output_type": "execute_result"
    }
   ],
   "source": [
    "# look at relative importance of different features\n",
    "features = X2_train.columns\n",
    "importances = gsrf.best_estimator_.feature_importances_\n",
    "feat_importances = pd.DataFrame(index=features, columns = ['importance'])\n",
    "feat_importances['importance'] = importances\n",
    "feat_importances.sort_values(by='importance', ascending = False).round(decimals=3)"
   ]
  },
  {
   "cell_type": "markdown",
   "metadata": {},
   "source": [
    "## Compare with Logistic Regression"
   ]
  },
  {
   "cell_type": "code",
   "execution_count": 21,
   "metadata": {
    "collapsed": true
   },
   "outputs": [],
   "source": [
    "# instantiate logistic regression and gridsearch\n",
    "lg = LogisticRegression(random_state = rs, n_jobs=-1)\n",
    "C_range = 10.**np.arange(-2, 3)\n",
    "param_grid = {'C':C_range, 'penalty': ['l1', 'l2']}\n",
    "lggrid = GridSearchCV(lg, param_grid, scoring='roc_auc', verbose = 1, n_jobs=-1)"
   ]
  },
  {
   "cell_type": "code",
   "execution_count": 22,
   "metadata": {
    "collapsed": false
   },
   "outputs": [
    {
     "name": "stdout",
     "output_type": "stream",
     "text": [
      "Fitting 3 folds for each of 10 candidates, totalling 30 fits\n"
     ]
    },
    {
     "name": "stderr",
     "output_type": "stream",
     "text": [
      "[Parallel(n_jobs=-1)]: Done  30 out of  30 | elapsed:    0.3s finished\n"
     ]
    },
    {
     "data": {
      "text/plain": [
       "GridSearchCV(cv=None, error_score='raise',\n",
       "       estimator=LogisticRegression(C=1.0, class_weight=None, dual=False, fit_intercept=True,\n",
       "          intercept_scaling=1, max_iter=100, multi_class='ovr', n_jobs=-1,\n",
       "          penalty='l2', random_state=25, solver='liblinear', tol=0.0001,\n",
       "          verbose=0, warm_start=False),\n",
       "       fit_params={}, iid=True, n_jobs=-1,\n",
       "       param_grid={'penalty': ['l1', 'l2'], 'C': array([  1.00000e-02,   1.00000e-01,   1.00000e+00,   1.00000e+01,\n",
       "         1.00000e+02])},\n",
       "       pre_dispatch='2*n_jobs', refit=True, scoring='roc_auc', verbose=1)"
      ]
     },
     "execution_count": 22,
     "metadata": {},
     "output_type": "execute_result"
    }
   ],
   "source": [
    "lggrid.fit(X2_train, y2_train)"
   ]
  },
  {
   "cell_type": "code",
   "execution_count": 23,
   "metadata": {
    "collapsed": false
   },
   "outputs": [
    {
     "name": "stdout",
     "output_type": "stream",
     "text": [
      "LogisticRegression(C=0.10000000000000001, class_weight=None, dual=False,\n",
      "          fit_intercept=True, intercept_scaling=1, max_iter=100,\n",
      "          multi_class='ovr', n_jobs=-1, penalty='l2', random_state=25,\n",
      "          solver='liblinear', tol=0.0001, verbose=0, warm_start=False)\n",
      "0.683738765914\n",
      "0.71092122777\n"
     ]
    }
   ],
   "source": [
    "# print best parameters and score, as well as out of sample score\n",
    "print lggrid.best_estimator_\n",
    "print lggrid.best_score_\n",
    "print lggrid.score(X2_test, y2_test)"
   ]
  },
  {
   "cell_type": "code",
   "execution_count": 24,
   "metadata": {
    "collapsed": false
   },
   "outputs": [
    {
     "name": "stdout",
     "output_type": "stream",
     "text": [
      "             precision    recall  f1-score   support\n",
      "\n",
      "      False       0.92      0.64      0.76      1979\n",
      "       True       0.24      0.68      0.35       328\n",
      "\n",
      "avg / total       0.83      0.65      0.70      2307\n",
      "\n",
      "[[1272  707]\n",
      " [ 105  223]]\n"
     ]
    }
   ],
   "source": [
    "# Calculate prediction probabilities, use threshold of 15% to classify as unhappy\n",
    "lggrid_proba = lggrid.predict_proba(X2_test)\n",
    "lggrid_pred = lggrid_proba[:,1] > 0.15\n",
    "print classification_report(y2_test, lggrid_pred)\n",
    "print confusion_matrix(y2_test, lggrid_pred)"
   ]
  },
  {
   "cell_type": "markdown",
   "metadata": {},
   "source": [
    "## Look at ROC curves and Model Value-Add"
   ]
  },
  {
   "cell_type": "code",
   "execution_count": 26,
   "metadata": {
    "collapsed": false
   },
   "outputs": [
    {
     "data": {
      "text/plain": [
       "<matplotlib.text.Text at 0x11a031090>"
      ]
     },
     "execution_count": 26,
     "metadata": {},
     "output_type": "execute_result"
    },
    {
     "data": {
      "image/png": "[encoded data removed]",
      "text/plain": [
       "<matplotlib.figure.Figure at 0x105822dd0>"
      ]
     },
     "metadata": {},
     "output_type": "display_data"
    }
   ],
   "source": [
    "# look at ROC curve for RF models and LG model\n",
    "fpr1, tpr1, _ = metrics.roc_curve(y1_test, gsrf_proba1[:,1])\n",
    "fpr2, tpr2, _ = metrics.roc_curve(y2_test, gsrf_proba2[:,1])\n",
    "lgfpr, lgtpr, _ = metrics.roc_curve(y2_test, lggrid_proba[:,1])\n",
    "plt.plot(fpr1, tpr1, 'b--', fpr2, tpr2, 'g--', lgfpr, lgtpr, 'y--',fpr1, fpr1, 'r--')\n",
    "plt.xlabel('FPR')\n",
    "plt.ylabel('TPR')"
   ]
  },
  {
   "cell_type": "code",
   "execution_count": 27,
   "metadata": {
    "collapsed": false
   },
   "outputs": [],
   "source": [
    "# save data as CSV for graphing in Tableau\n",
    "df1 = pd.DataFrame({'Model': \"RF more features\", 'FPR': fpr1, 'TPR': tpr1})\n",
    "df2 = pd.DataFrame({'Model': \"RF non-subjective features\", 'FPR': fpr2, 'TPR': tpr2})\n",
    "df3 = pd.DataFrame({'Model': \"Logistic Regression\", 'FPR': lgfpr, 'TPR': lgtpr})\n",
    "df4 = pd.DataFrame({'Model': 'Baseline', 'FPR': fpr1, 'TPR': fpr1})\n",
    "df = df1.append(df2, ignore_index=True).append(df3, ignore_index=True).append(df4, ignore_index=True)\n",
    "df = df[['Model', 'FPR', 'TPR']]\n",
    "df.to_csv('../Data/rf_fpr_tpr.csv', encoding='utf-8', index=False)"
   ]
  },
  {
   "cell_type": "code",
   "execution_count": 28,
   "metadata": {
    "collapsed": false
   },
   "outputs": [],
   "source": [
    "def getPlotValueAdd(probas, y_test):\n",
    "    # create dataframe with the model's predicted P(unhappy) along with boolean for actual unhappiness\n",
    "    modelprobs = pd.DataFrame()\n",
    "    modelprobs['Model_Prob_Unhappy'] = probas[:,1]\n",
    "    modelprobs['Unhappy_True'] = y_test.as_matrix()\n",
    "\n",
    "    # sort by P(Unhappy) and add columns for % Unhappy and % Happy people falling above that threshold\n",
    "    modelprobs.sort_values(by='Model_Prob_Unhappy', axis=0, inplace=True, ascending=False)\n",
    "    modelprobs['portion_unhappy_captured'] = np.cumsum(modelprobs['Unhappy_True'])/np.sum(modelprobs['Unhappy_True'])\n",
    "    modelprobs['portion_happy_mislabeled'] = np.cumsum(1-modelprobs['Unhappy_True'])/np.sum(1-modelprobs['Unhappy_True'])\n",
    "    # add column with ratio of correct prediction (ie, precision for predicting unhappiness)\n",
    "    modelprobs['ratio_correct_prediction'] = np.cumsum(modelprobs['Unhappy_True'])/(np.cumsum(modelprobs['Unhappy_True']) + np.cumsum(1-modelprobs['Unhappy_True']))\n",
    "\n",
    "    # Plot the difference\n",
    "    x = modelprobs['Model_Prob_Unhappy']\n",
    "    y1 = modelprobs['portion_unhappy_captured']\n",
    "    y2 = modelprobs['portion_happy_mislabeled']\n",
    "    y3 = modelprobs['ratio_correct_prediction']\n",
    "    plt.plot(x, y1, 'b--', x, y2, 'r--', x, y3, 'g--')\n",
    "    \n",
    "    # return DF\n",
    "    return modelprobs"
   ]
  },
  {
   "cell_type": "code",
   "execution_count": 29,
   "metadata": {
    "collapsed": false
   },
   "outputs": [
    {
     "data": {
      "image/png": "[encoded data removed]",
      "text/plain": [
       "<matplotlib.figure.Figure at 0x119d02a50>"
      ]
     },
     "metadata": {},
     "output_type": "display_data"
    }
   ],
   "source": [
    "# look at value add for model with more features\n",
    "modelprobs1 = getPlotValueAdd(gsrf_proba1, y1_test)"
   ]
  },
  {
   "cell_type": "code",
   "execution_count": 30,
   "metadata": {
    "collapsed": false
   },
   "outputs": [
    {
     "data": {
      "image/png": "[encoded data removed]",
      "text/plain": [
       "<matplotlib.figure.Figure at 0x11a846210>"
      ]
     },
     "metadata": {},
     "output_type": "display_data"
    }
   ],
   "source": [
    "# look at value add for 'more realistic' model\n",
    "modelprobs2 = getPlotValueAdd(gsrf_proba2, y2_test)"
   ]
  },
  {
   "cell_type": "code",
   "execution_count": 31,
   "metadata": {
    "collapsed": false
   },
   "outputs": [
    {
     "data": {
      "image/png": "[encoded data removed]",
      "text/plain": [
       "<matplotlib.figure.Figure at 0x11a91b810>"
      ]
     },
     "metadata": {},
     "output_type": "display_data"
    }
   ],
   "source": [
    "# look at value add for logistic regression model\n",
    "modelprobsLG = getPlotValueAdd(lggrid_proba, y2_test)"
   ]
  },
  {
   "cell_type": "markdown",
   "metadata": {},
   "source": [
    "## Save Data for Plotting in Tableau"
   ]
  },
  {
   "cell_type": "code",
   "execution_count": 34,
   "metadata": {
    "collapsed": true
   },
   "outputs": [],
   "source": [
    "melted = pd.melt(modelprobsLG, id_vars= ['Model_Prob_Unhappy', 'Unhappy_True'])"
   ]
  },
  {
   "cell_type": "code",
   "execution_count": 35,
   "metadata": {
    "collapsed": true
   },
   "outputs": [],
   "source": [
    "melted.to_csv('../Data/rf_proba_test.csv', index=False, encoding='utf-8')"
   ]
  }
 ],
 "metadata": {
  "kernelspec": {
   "display_name": "Python 2",
   "language": "python",
   "name": "python2"
  },
  "language_info": {
   "codemirror_mode": {
    "name": "ipython",
    "version": 2
   },
   "file_extension": ".py",
   "mimetype": "text/x-python",
   "name": "python",
   "nbconvert_exporter": "python",
   "pygments_lexer": "ipython2",
   "version": "2.7.11"
  }
 },
 "nbformat": 4,
 "nbformat_minor": 0
}
