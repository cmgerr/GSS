{
 "cells": [
  {
   "cell_type": "code",
   "execution_count": 26,
   "metadata": {
    "collapsed": false
   },
   "outputs": [],
   "source": [
    "from sklearn.linear_model import LogisticRegression \n",
    "from sklearn.cross_validation import cross_val_score\n",
    "from sklearn.grid_search import GridSearchCV\n",
    "from sklearn.cross_validation import train_test_split\n",
    "import pandas as pd\n",
    "import numpy as np \n",
    "from sklearn.metrics import classification_report, confusion_matrix, accuracy_score\n",
    "from sklearn.grid_search import GridSearchCV\n",
    "from sklearn import metrics\n",
    "import matplotlib.pyplot as plt\n",
    "%matplotlib inline\n",
    "\n",
    "# set random state to use\n",
    "rs = 25"
   ]
  },
  {
   "cell_type": "code",
   "execution_count": 2,
   "metadata": {
    "collapsed": false
   },
   "outputs": [],
   "source": [
    "# import saved data from clean-up done in Random Forest modeling process\n",
    "data = pd.read_csv('../Data/gss_subset_for_modeling.csv')"
   ]
  },
  {
   "cell_type": "code",
   "execution_count": 7,
   "metadata": {
    "collapsed": false
   },
   "outputs": [
    {
     "name": "stdout",
     "output_type": "stream",
     "text": [
      "<class 'pandas.core.frame.DataFrame'>\n",
      "RangeIndex: 11534 entries, 0 to 11533\n",
      "Data columns (total 8 columns):\n",
      "marital    11534 non-null object\n",
      "sibs       11534 non-null float64\n",
      "childs     11534 non-null float64\n",
      "age        11534 non-null float64\n",
      "educ       11534 non-null float64\n",
      "adults     11534 non-null float64\n",
      "happy      11534 non-null float64\n",
      "dwelown    11534 non-null object\n",
      "dtypes: float64(6), object(2)\n",
      "memory usage: 720.9+ KB\n"
     ]
    }
   ],
   "source": [
    "data.info()"
   ]
  },
  {
   "cell_type": "code",
   "execution_count": 9,
   "metadata": {
    "collapsed": true
   },
   "outputs": [],
   "source": [
    "# set X and y.drop non-demographic features(ie would need to be collected in interview)\n",
    "X = pd.get_dummies(data.drop('happy', axis=1), drop_first=True)\n",
    "y = data['happy'] == 1 # y is \"true\" when individual is unhappy"
   ]
  },
  {
   "cell_type": "code",
   "execution_count": 18,
   "metadata": {
    "collapsed": false
   },
   "outputs": [],
   "source": [
    "# do train_test split\n",
    "X_train, X_test, y_train, y_test = train_test_split(X, y,\n",
    "        stratify = y, test_size=0.2, random_state=rs)"
   ]
  },
  {
   "cell_type": "code",
   "execution_count": 19,
   "metadata": {
    "collapsed": true
   },
   "outputs": [],
   "source": [
    "C_range = 10.**np.arange(-2, 3)\n",
    "param_grid = {'C':C_range, 'fit_intercept':[True, False], \n",
    "              'solver' : ['newton-cg', 'lbfgs', 'liblinear', 'sag']}"
   ]
  },
  {
   "cell_type": "code",
   "execution_count": 20,
   "metadata": {
    "collapsed": false
   },
   "outputs": [],
   "source": [
    "log_reg = LogisticRegression(random_state = rs, n_jobs=-1)"
   ]
  },
  {
   "cell_type": "code",
   "execution_count": 21,
   "metadata": {
    "collapsed": false
   },
   "outputs": [
    {
     "name": "stderr",
     "output_type": "stream",
     "text": [
      "/Users/caitlingerrity/anaconda/lib/python2.7/site-packages/scipy/optimize/linesearch.py:285: LineSearchWarning: The line search algorithm did not converge\n",
      "  warn('The line search algorithm did not converge', LineSearchWarning)\n",
      "/Users/caitlingerrity/anaconda/lib/python2.7/site-packages/sklearn/utils/optimize.py:193: UserWarning: Line Search failed\n",
      "  warnings.warn('Line Search failed')\n"
     ]
    },
    {
     "data": {
      "text/plain": [
       "GridSearchCV(cv=10, error_score='raise',\n",
       "       estimator=LogisticRegression(C=1.0, class_weight=None, dual=False, fit_intercept=True,\n",
       "          intercept_scaling=1, max_iter=100, multi_class='ovr', n_jobs=-1,\n",
       "          penalty='l2', random_state=25, solver='liblinear', tol=0.0001,\n",
       "          verbose=0, warm_start=False),\n",
       "       fit_params={}, iid=True, n_jobs=1,\n",
       "       param_grid={'C': array([  1.00000e-02,   1.00000e-01,   1.00000e+00,   1.00000e+01,\n",
       "         1.00000e+02]), 'solver': ['newton-cg', 'lbfgs', 'liblinear', 'sag'], 'fit_intercept': [True, False]},\n",
       "       pre_dispatch='2*n_jobs', refit=True, scoring='roc_auc', verbose=0)"
      ]
     },
     "execution_count": 21,
     "metadata": {},
     "output_type": "execute_result"
    }
   ],
   "source": [
    "grid = GridSearchCV(log_reg, param_grid, cv=10, scoring='roc_auc')\n",
    "grid.fit(X_train, y_train)"
   ]
  },
  {
   "cell_type": "code",
   "execution_count": 22,
   "metadata": {
    "collapsed": false
   },
   "outputs": [
    {
     "name": "stdout",
     "output_type": "stream",
     "text": [
      "LogisticRegression(C=0.10000000000000001, class_weight=None, dual=False,\n",
      "          fit_intercept=True, intercept_scaling=1, max_iter=100,\n",
      "          multi_class='ovr', n_jobs=-1, penalty='l2', random_state=25,\n",
      "          solver='newton-cg', tol=0.0001, verbose=0, warm_start=False)\n",
      "0.685256049139\n",
      "0.710898119277\n"
     ]
    },
    {
     "name": "stderr",
     "output_type": "stream",
     "text": [
      "/Users/caitlingerrity/anaconda/lib/python2.7/site-packages/sklearn/grid_search.py:418: ChangedBehaviorWarning: The long-standing behavior to use the estimator's score function in GridSearchCV.score has changed. The scoring parameter is now used.\n",
      "  ChangedBehaviorWarning)\n"
     ]
    }
   ],
   "source": [
    "# print best parameters and score, as well as out of sample score\n",
    "print grid.best_estimator_\n",
    "print grid.best_score_\n",
    "print grid.score(X_test, y_test)"
   ]
  },
  {
   "cell_type": "code",
   "execution_count": 24,
   "metadata": {
    "collapsed": false
   },
   "outputs": [
    {
     "name": "stdout",
     "output_type": "stream",
     "text": [
      "             precision    recall  f1-score   support\n",
      "\n",
      "      False       0.92      0.64      0.76      1979\n",
      "       True       0.24      0.67      0.35       328\n",
      "\n",
      "avg / total       0.83      0.65      0.70      2307\n",
      "\n",
      "[[1273  706]\n",
      " [ 107  221]]\n"
     ]
    }
   ],
   "source": [
    "# Calculate prediction probabilities, use threshold of 15% to classify as unhappy\n",
    "grid_proba = grid.predict_proba(X_test)\n",
    "grid_pred = grid_proba[:,1] > 0.15\n",
    "print classification_report(y_test, grid_pred)\n",
    "print confusion_matrix(y_test, grid_pred)"
   ]
  },
  {
   "cell_type": "markdown",
   "metadata": {},
   "source": [
    "## Plot ROC curve and Value-Add plot"
   ]
  },
  {
   "cell_type": "code",
   "execution_count": 27,
   "metadata": {
    "collapsed": false
   },
   "outputs": [
    {
     "data": {
      "text/plain": [
       "<matplotlib.text.Text at 0x11acfe750>"
      ]
     },
     "execution_count": 27,
     "metadata": {},
     "output_type": "execute_result"
    },
    {
     "data": {
      "image/png": "[encoded data removed]",
      "text/plain": [
       "<matplotlib.figure.Figure at 0x1167a2050>"
      ]
     },
     "metadata": {},
     "output_type": "display_data"
    }
   ],
   "source": [
    "# look at ROC curve for model with more features and less features\n",
    "fpr, tpr, _ = metrics.roc_curve(y_test, grid_proba[:,1])\n",
    "plt.plot(fpr, tpr, 'b--', fpr, fpr, 'r--')\n",
    "plt.xlabel('FPR')\n",
    "plt.ylabel('TPR')"
   ]
  },
  {
   "cell_type": "code",
   "execution_count": 30,
   "metadata": {
    "collapsed": true
   },
   "outputs": [],
   "source": [
    "def getPlotValueAdd(probas, y_test):\n",
    "    # create dataframe with the model's predicted P(unhappy) along with boolean for actual unhappiness\n",
    "    modelprobs = pd.DataFrame()\n",
    "    modelprobs['Model_Prob_Unhappy'] = probas[:,1]\n",
    "    modelprobs['Unhappy_True'] = y_test.as_matrix()\n",
    "\n",
    "    # sort by P(Unhappy) and add columns for % Unhappy and % Happy people falling above that threshold\n",
    "    modelprobs.sort_values(by='Model_Prob_Unhappy', axis=0, inplace=True, ascending=False)\n",
    "    modelprobs['portion_unhappy_captured'] = np.cumsum(modelprobs['Unhappy_True'])/np.sum(modelprobs['Unhappy_True'])\n",
    "    modelprobs['portion_happy_mislabeled'] = np.cumsum(1-modelprobs['Unhappy_True'])/np.sum(1-modelprobs['Unhappy_True'])\n",
    "    # add column with ratio of correct prediction (ie, precision for predicting unhappiness)\n",
    "    modelprobs['ratio_correct_prediction'] = np.cumsum(modelprobs['Unhappy_True'])/(np.cumsum(modelprobs['Unhappy_True']) + np.cumsum(1-modelprobs['Unhappy_True']))\n",
    "\n",
    "    # Plot the difference\n",
    "    x = modelprobs['Model_Prob_Unhappy']\n",
    "    y1 = modelprobs['portion_unhappy_captured']\n",
    "    y2 = modelprobs['portion_happy_mislabeled']\n",
    "    y3 = modelprobs['ratio_correct_prediction']\n",
    "    plt.plot(x, y1, 'b--', x, y2, 'r--', x, y3, 'g--')\n",
    "    \n",
    "    # return DF\n",
    "    return modelprobs"
   ]
  },
  {
   "cell_type": "code",
   "execution_count": 31,
   "metadata": {
    "collapsed": false
   },
   "outputs": [
    {
     "data": {
      "image/png": "[encoded data removed]",
      "text/plain": [
       "<matplotlib.figure.Figure at 0x11acfec10>"
      ]
     },
     "metadata": {},
     "output_type": "display_data"
    }
   ],
   "source": [
    "# look at value add for logistic regression\n",
    "modelprobs = getPlotValueAdd(grid_proba, y_test)"
   ]
  }
 ],
 "metadata": {
  "kernelspec": {
   "display_name": "Python 2",
   "language": "python",
   "name": "python2"
  },
  "language_info": {
   "codemirror_mode": {
    "name": "ipython",
    "version": 2
   },
   "file_extension": ".py",
   "mimetype": "text/x-python",
   "name": "python",
   "nbconvert_exporter": "python",
   "pygments_lexer": "ipython2",
   "version": "2.7.11"
  }
 },
 "nbformat": 4,
 "nbformat_minor": 0
}
